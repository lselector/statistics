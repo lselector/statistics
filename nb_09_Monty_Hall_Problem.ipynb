{
 "cells": [
  {
   "cell_type": "markdown",
   "metadata": {},
   "source": [
    "### Monty Hall Problem"
   ]
  },
  {
   "cell_type": "code",
   "execution_count": 1,
   "metadata": {},
   "outputs": [],
   "source": [
    "import random"
   ]
  },
  {
   "cell_type": "code",
   "execution_count": 8,
   "metadata": {},
   "outputs": [
    {
     "name": "stdout",
     "output_type": "stream",
     "text": [
      "Monty Hall Problem with 3 doors\n",
      "Percent wins with/without switching:\n",
      "65.99 / 33.59\n"
     ]
    }
   ],
   "source": [
    "import random\n",
    "# ---------------------------------------------\n",
    "def run_trial(switch_doors, ndoors=3):\n",
    "    chosen_door = random.randint(1, ndoors)\n",
    "    if switch_doors:\n",
    "        revealed_door = 3 if chosen_door==2 else 2\n",
    "        available_doors = [\n",
    "            dnum for dnum in range(1,ndoors+1)\n",
    "                if dnum not in (chosen_door, revealed_door)\n",
    "        ]\n",
    "        chosen_door = random.choice(available_doors)\n",
    "    return chosen_door == 1\n",
    "# ---------------------------------------------\n",
    "def run_trials(ntrials, switch_doors, ndoors=3):\n",
    "    nwins = 0\n",
    "    for i in range(ntrials):\n",
    "        if run_trial(switch_doors, ndoors):\n",
    "            nwins += 1\n",
    "    return nwins\n",
    "# ---------------------------------------------\n",
    "ndoors, ntrials = 3, 10000\n",
    "coef = 100.0/ntrials\n",
    "pct_wins_no_sw = coef*run_trials(ntrials, False, ndoors)\n",
    "pct_wins_sw    = coef*run_trials(ntrials, True , ndoors)\n",
    "\n",
    "print(f\"Monty Hall Problem with {ndoors} doors\")\n",
    "print(f\"Percent wins with/without switching:\")\n",
    "print(f\"{pct_wins_sw:.2f} / {pct_wins_no_sw:.2f}\") # 67.26 / 32.85"
   ]
  },
  {
   "cell_type": "code",
   "execution_count": null,
   "metadata": {},
   "outputs": [],
   "source": []
  }
 ],
 "metadata": {
  "kernelspec": {
   "display_name": "Python 3 (ipykernel)",
   "language": "python",
   "name": "python3"
  },
  "language_info": {
   "codemirror_mode": {
    "name": "ipython",
    "version": 3
   },
   "file_extension": ".py",
   "mimetype": "text/x-python",
   "name": "python",
   "nbconvert_exporter": "python",
   "pygments_lexer": "ipython3",
   "version": "3.9.12"
  }
 },
 "nbformat": 4,
 "nbformat_minor": 4
}

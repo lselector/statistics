{
 "cells": [
  {
   "cell_type": "markdown",
   "metadata": {},
   "source": [
    "# Logistic Regression Example"
   ]
  },
  {
   "cell_type": "code",
   "execution_count": 1,
   "metadata": {},
   "outputs": [],
   "source": [
    "import os, sys, time\n",
    "import itertools\n",
    "import pandas as pd\n",
    "import numpy as np\n",
    "\n",
    "from sklearn.model_selection import train_test_split\n",
    "from sklearn.linear_model import LogisticRegression\n",
    "from sklearn import metrics\n",
    "from sklearn.metrics import precision_score,       \\\n",
    "                            recall_score,          \\\n",
    "                            f1_score,              \\\n",
    "                            confusion_matrix,      \\\n",
    "                            auc,                   \\\n",
    "                            precision_recall_curve \n",
    "\n",
    "%matplotlib inline\n",
    "import matplotlib.pyplot as plt"
   ]
  },
  {
   "cell_type": "code",
   "execution_count": 2,
   "metadata": {},
   "outputs": [
    {
     "data": {
      "text/html": [
       "<div>\n",
       "<style scoped>\n",
       "    .dataframe tbody tr th:only-of-type {\n",
       "        vertical-align: middle;\n",
       "    }\n",
       "\n",
       "    .dataframe tbody tr th {\n",
       "        vertical-align: top;\n",
       "    }\n",
       "\n",
       "    .dataframe thead th {\n",
       "        text-align: right;\n",
       "    }\n",
       "</style>\n",
       "<table border=\"1\" class=\"dataframe\">\n",
       "  <thead>\n",
       "    <tr style=\"text-align: right;\">\n",
       "      <th></th>\n",
       "      <th>admit</th>\n",
       "      <th>gre</th>\n",
       "      <th>gpa</th>\n",
       "      <th>rank</th>\n",
       "    </tr>\n",
       "  </thead>\n",
       "  <tbody>\n",
       "    <tr>\n",
       "      <th>0</th>\n",
       "      <td>0</td>\n",
       "      <td>380</td>\n",
       "      <td>3.61</td>\n",
       "      <td>3</td>\n",
       "    </tr>\n",
       "    <tr>\n",
       "      <th>1</th>\n",
       "      <td>1</td>\n",
       "      <td>660</td>\n",
       "      <td>3.67</td>\n",
       "      <td>3</td>\n",
       "    </tr>\n",
       "    <tr>\n",
       "      <th>2</th>\n",
       "      <td>1</td>\n",
       "      <td>800</td>\n",
       "      <td>4.00</td>\n",
       "      <td>1</td>\n",
       "    </tr>\n",
       "    <tr>\n",
       "      <th>3</th>\n",
       "      <td>1</td>\n",
       "      <td>640</td>\n",
       "      <td>3.19</td>\n",
       "      <td>4</td>\n",
       "    </tr>\n",
       "    <tr>\n",
       "      <th>4</th>\n",
       "      <td>0</td>\n",
       "      <td>520</td>\n",
       "      <td>2.93</td>\n",
       "      <td>4</td>\n",
       "    </tr>\n",
       "  </tbody>\n",
       "</table>\n",
       "</div>"
      ],
      "text/plain": [
       "   admit  gre   gpa  rank\n",
       "0      0  380  3.61     3\n",
       "1      1  660  3.67     3\n",
       "2      1  800  4.00     1\n",
       "3      1  640  3.19     4\n",
       "4      0  520  2.93     4"
      ]
     },
     "execution_count": 2,
     "metadata": {},
     "output_type": "execute_result"
    }
   ],
   "source": [
    "# read data from file - from local drive or from url\n",
    "df = pd.read_csv(\"https://stats.idre.ucla.edu/stat/data/binary.csv\")\n",
    "df.head()"
   ]
  },
  {
   "cell_type": "markdown",
   "metadata": {},
   "source": [
    "## Another example of Logistic Regression using sklearn and images:\n",
    " - https://towardsdatascience.com/logistic-regression-using-python-sklearn-numpy-mnist-handwriting-recognition-matplotlib-a6b31e2b166a\n",
    "    "
   ]
  },
  {
   "cell_type": "code",
   "execution_count": 3,
   "metadata": {},
   "outputs": [
    {
     "name": "stdout",
     "output_type": "stream",
     "text": [
      "data: -------------------------\n",
      "[[380.     3.61   3.  ]\n",
      " [660.     3.67   3.  ]\n",
      " [800.     4.     1.  ]\n",
      " ...\n",
      " [460.     2.63   2.  ]\n",
      " [700.     3.65   2.  ]\n",
      " [600.     3.89   3.  ]]\n",
      "target: -------------------------\n",
      "[0 1 1 1 0 1 1 0 1 0 0 0 1 0 1 0 0 0 0 1 0 1 0 0 1 1 1 1 1 0 0 0 0 1 0 0 0\n",
      " 0 1 1 0 1 1 0 0 1 1 0 0 0 0 0 0 1 0 1 0 0 0 0 1 0 0 1 0 0 0 0 0 0 0 0 0 0\n",
      " 0 0 0 1 0 1 0 0 0 0 1 0 0 0 0 1 0 1 0 0 1 0 0 0 0 0 0 0 0 0 1 1 1 0 0 0 0\n",
      " 0 0 0 0 0 1 0 1 0 1 1 0 0 0 0 1 0 0 0 1 0 0 0 0 0 0 0 0 1 0 1 0 0 0 0 0 0\n",
      " 1 0 1 0 1 0 0 1 0 1 0 0 0 0 1 0 0 0 0 0 0 0 0 0 0 1 0 1 0 1 0 0 0 0 0 1 0\n",
      " 0 0 0 0 0 1 0 0 0 1 0 0 1 0 0 0 1 1 0 1 1 0 1 0 0 0 0 0 0 1 1 0 1 0 1 0 0\n",
      " 1 0 0 1 0 0 0 1 0 0 0 0 1 0 1 0 0 0 0 1 1 0 0 0 0 0 0 0 0 0 1 1 1 0 1 1 0\n",
      " 0 0 0 1 1 1 0 0 1 1 0 1 0 1 0 0 1 0 1 1 1 0 0 0 0 1 0 1 1 0 0 1 0 0 0 0 0\n",
      " 0 0 0 0 0 1 1 1 0 0 1 0 0 0 0 0 0 1 0 1 1 1 1 0 0 0 0 0 0 0 0 1 0 0 0 0 0\n",
      " 0 1 1 0 0 0 1 0 1 0 0 0 0 0 0 0 0 1 0 1 0 1 1 0 0 1 0 1 1 0 0 1 0 0 0 0 0\n",
      " 1 1 1 1 0 0 0 1 0 0 0 1 0 0 1 0 1 0 0 0 1 1 1 1 1 0 0 0 0 0]\n",
      "------------------------------------------------------------\n",
      "data.shape   = (400, 3)\n",
      "target.shape = (400,)\n"
     ]
    }
   ],
   "source": [
    "# convert dataframe to data and target arrays:\n",
    "# columns [\"admit\", \"gre\", \"gpa\", \"rank\"]\n",
    "\n",
    "data = df[[\"gre\", \"gpa\", \"rank\"]].values\n",
    "target = df[\"admit\"].values\n",
    "\n",
    "print(f\"data: -------------------------\\n{data}\")\n",
    "print(f\"target: -------------------------\\n{target}\")\n",
    "print(\"-\"*60)\n",
    "print(\"data.shape   =\", data.shape)\n",
    "print(\"target.shape =\", target.shape)"
   ]
  },
  {
   "cell_type": "code",
   "execution_count": 4,
   "metadata": {},
   "outputs": [
    {
     "name": "stdout",
     "output_type": "stream",
     "text": [
      "----------------------------------------\n",
      "[[660.     3.31   4.  ]\n",
      " [680.     3.85   3.  ]\n",
      " [660.     3.77   3.  ]\n",
      " [700.     3.82   3.  ]\n",
      " [520.     3.1    4.  ]]\n",
      "[0 1 0 0 0]\n",
      "(300, 3)\n",
      "(300,)\n",
      "----------------------------------------\n",
      "[[580.     3.4    2.  ]\n",
      " [440.     2.98   3.  ]\n",
      " [560.     2.65   3.  ]\n",
      " [660.     3.07   3.  ]\n",
      " [680.     3.34   2.  ]]\n",
      "[0 0 1 0 0]\n",
      "(100, 3)\n",
      "(100,)\n",
      "----------------------------------------\n"
     ]
    }
   ],
   "source": [
    "# split data into train and test datasets\n",
    "x_train, x_test, y_train, y_test = train_test_split(data, target, test_size=0.25, random_state=0)\n",
    "\n",
    "print(\"-\"*40)\n",
    "print(x_train[:5])\n",
    "print(y_train[:5])\n",
    "print(x_train.shape)\n",
    "print(y_train.shape)\n",
    "print(\"-\"*40)\n",
    "print(x_test[:5])\n",
    "print(y_test[:5])\n",
    "print(x_test.shape)\n",
    "print(y_test.shape)\n",
    "print(\"-\"*40)"
   ]
  },
  {
   "cell_type": "code",
   "execution_count": 5,
   "metadata": {},
   "outputs": [
    {
     "name": "stdout",
     "output_type": "stream",
     "text": [
      "----------------------------------------\n",
      "Performance on training dataset\n",
      "              precision    recall  f1-score   support\n",
      "\n",
      "           0       0.81      0.60      0.69       208\n",
      "           1       0.43      0.68      0.53        92\n",
      "\n",
      "    accuracy                           0.63       300\n",
      "   macro avg       0.62      0.64      0.61       300\n",
      "weighted avg       0.70      0.63      0.64       300\n",
      "\n",
      "[[125  83]\n",
      " [ 29  63]]\n",
      "----------------------------------------\n",
      "Performance on test dataset\n",
      "              precision    recall  f1-score   support\n",
      "\n",
      "           0       0.76      0.63      0.69        65\n",
      "           1       0.48      0.63      0.54        35\n",
      "\n",
      "    accuracy                           0.63       100\n",
      "   macro avg       0.62      0.63      0.62       100\n",
      "weighted avg       0.66      0.63      0.64       100\n",
      "\n",
      "[[41 24]\n",
      " [13 22]]\n",
      "----------------------------------------\n"
     ]
    }
   ],
   "source": [
    "# Now time to run the model\n",
    "model = LogisticRegression(class_weight=\"balanced\", solver='lbfgs')\n",
    "model.fit(x_train, y_train)\n",
    "\n",
    "# now let's look how the model predicts\n",
    "\n",
    "print(\"-\"*40)\n",
    "print(\"Performance on training dataset\")\n",
    "\n",
    "expected  = y_train\n",
    "predicted = model.predict(x_train)\n",
    "print(metrics.classification_report(expected, predicted))\n",
    "confusion = metrics.confusion_matrix(expected, predicted)\n",
    "print(confusion)\n",
    "\n",
    "print(\"-\"*40)\n",
    "print(\"Performance on test dataset\")\n",
    "expected  = y_test\n",
    "predicted = model.predict(x_test)\n",
    "print(metrics.classification_report(expected, predicted))\n",
    "confusion = metrics.confusion_matrix(expected, predicted)\n",
    "print(confusion)\n",
    "print(\"-\"*40)"
   ]
  },
  {
   "cell_type": "code",
   "execution_count": 6,
   "metadata": {},
   "outputs": [],
   "source": [
    "def show_roc_curve(target=None, predict_proba=None):\n",
    "    \"\"\"\n",
    "    # ROC curve = (Receiver Operating Characteristic curve)\n",
    "    # was first developed during World War II for detecting enemy objects in battlefields.\n",
    "    # plotting True Positive Rate (TPR) vs False Positive Rate (FPR) at various thresholds.\n",
    "    # TPR a.k.a. sensitivity, recall, or probability of detection.\n",
    "    # FPR a.k.a fall-out or probability of false alarm = (1-specificity).\n",
    "    # So ROC curve is the sensitivity as a function of fall-out.\n",
    "    \"\"\"\n",
    "    fpr, tpr, thresholds = metrics.roc_curve(target, predict_proba[:,1])\n",
    "    plt.plot(fpr, tpr, linewidth=3.0, color='red')\n",
    "    plt.xlim([0.0, 1.0])\n",
    "    plt.ylim([0.0, 1.0])\n",
    "    plt.title('ROC Curve')\n",
    "    plt.xlabel('False Positive Rate (1 - Specificity)')\n",
    "    plt.ylabel('True Positive Rate (Sensitivity)')\n",
    "    plt.grid(True)"
   ]
  },
  {
   "cell_type": "code",
   "execution_count": 7,
   "metadata": {},
   "outputs": [
    {
     "data": {
      "image/png": "[encoded data removed]",
      "text/plain": [
       "<Figure size 432x288 with 1 Axes>"
      ]
     },
     "metadata": {
      "needs_background": "light"
     },
     "output_type": "display_data"
    }
   ],
   "source": [
    "predict_proba = model.predict_proba(x_train)\n",
    "# predict_proba\n",
    "show_roc_curve(target=y_train, predict_proba=predict_proba)"
   ]
  },
  {
   "cell_type": "code",
   "execution_count": 8,
   "metadata": {},
   "outputs": [
    {
     "name": "stdout",
     "output_type": "stream",
     "text": [
      "AUC = 0.6994\n"
     ]
    }
   ],
   "source": [
    "#Now add AUC (Area Under Curve) under the curve\n",
    "fpr, tpr, thresholds = metrics.roc_curve(y_train, predict_proba[:,1])\n",
    "print(\"AUC = %.4f\" % float(metrics.auc(fpr, tpr)))"
   ]
  },
  {
   "cell_type": "code",
   "execution_count": 9,
   "metadata": {},
   "outputs": [],
   "source": [
    "def plot_confusion_matrix(cm, title, \n",
    "                          classes=['abnormal', 'normal'],\n",
    "                          cmap=plt.cm.Blues, \n",
    "                          save_as=\"\"):\n",
    "    \"\"\"\n",
    "    # print Confusion matrix with blue gradient colours\n",
    "    #   usage:\n",
    "    #     cm = metrics.confusion_matrix(expected, predicted)\n",
    "    #     plot_confusion_matrix(cm)\n",
    "    #     plot_confusion_matrix(cm, title=\"Some Title\", saveas=\"cm.png\")\n",
    "    \"\"\"\n",
    "    cm = cm.astype('float') / cm.sum(axis=1)[:, np.newaxis]\n",
    "    \n",
    "    plt.imshow(cm, interpolation='nearest', cmap=cmap)\n",
    "    plt.title(title)\n",
    "    plt.colorbar()\n",
    "    tick_marks = np.arange(len(classes))\n",
    "    plt.xticks(tick_marks, classes, rotation=90)\n",
    "    plt.yticks(tick_marks, classes)\n",
    "\n",
    "    fmt = '.1%'\n",
    "    thresh = cm.max() / 2.\n",
    "    for i, j in itertools.product(range(cm.shape[0]), range(cm.shape[1])):\n",
    "        plt.text(j, i, format(cm[i, j], fmt),\n",
    "                 horizontalalignment=\"center\",\n",
    "                 color=\"white\" if cm[i, j] > thresh else \"black\")\n",
    "\n",
    "    plt.tight_layout()\n",
    "    plt.ylabel('True label')\n",
    "    plt.xlabel('Predicted label')\n",
    "    \n",
    "    if len(save_as) >0 :\n",
    "        plt.savefig(save_as, dpi=100)"
   ]
  },
  {
   "cell_type": "code",
   "execution_count": 10,
   "metadata": {},
   "outputs": [
    {
     "data": {
      "image/png": "[encoded data removed]",
      "text/plain": [
       "<Figure size 432x288 with 2 Axes>"
      ]
     },
     "metadata": {
      "needs_background": "light"
     },
     "output_type": "display_data"
    }
   ],
   "source": [
    "cm = metrics.confusion_matrix(expected, predicted)\n",
    "plot_confusion_matrix(cm, title=\"Some Title\")"
   ]
  },
  {
   "cell_type": "code",
   "execution_count": 11,
   "metadata": {},
   "outputs": [
    {
     "data": {
      "text/plain": [
       "numpy.ndarray"
      ]
     },
     "execution_count": 11,
     "metadata": {},
     "output_type": "execute_result"
    }
   ],
   "source": [
    "type(cm)"
   ]
  },
  {
   "cell_type": "markdown",
   "metadata": {},
   "source": [
    "<br>----------------------------------------------------------------------------\n",
    "<h3>Using Cross-Validation Folds</h3>\n",
    "<p>We randomly split all data rows in 4 groups (folds) numbered as 0,1,2,3\n",
    "<br>For modeling we will randomly select one of the folds as test data, \n",
    "<br>and combination of other three folds as training data.\n",
    "<br>Thus we can repeat modeling 4 times (if there are 4 folds).\n",
    "<br>Below we do that. We also repeat everything 3 times.\n",
    "<br>So we make 12 calculations, and then calculate mean and standard deviation.</p>"
   ]
  },
  {
   "cell_type": "code",
   "execution_count": 12,
   "metadata": {},
   "outputs": [
    {
     "name": "stdout",
     "output_type": "stream",
     "text": [
      "values in column 'cv_fold': [0 1 2 3]\n",
      "check that classes (0 or 1) are approx evenly distributed\n",
      "between folds: (0+1+2+3)/4 = 1.5\n",
      "0 => 1.3407\n",
      "1 => 1.5512\n"
     ]
    }
   ],
   "source": [
    "n_cv = 4           # number of cross-validation folds\n",
    "df_len = len(df)   # length of data\n",
    "\n",
    "# randomly populate column cv_fold with numbers 0,1,2,3\n",
    "df['cv_fold'] = np.random.randint(0,4, df_len)  \n",
    "print(\"values in column 'cv_fold':\", np.unique(df['cv_fold']))\n",
    "\n",
    "print(\"check that classes (0 or 1) are approx evenly distributed\")\n",
    "print(\"between folds: (0+1+2+3)/4 = 1.5\")\n",
    "print (\"0 => %.4f\" % np.mean(df.cv_fold[df.admit == 0]))\n",
    "print (\"1 => %.4f\" % np.mean(df.cv_fold[df.admit == 1]))"
   ]
  },
  {
   "cell_type": "code",
   "execution_count": 13,
   "metadata": {},
   "outputs": [],
   "source": [
    "def run_cv(model, label, columns, repeat = 1):\n",
    "    \"\"\"\n",
    "    #  runs model\n",
    "    #  gets data from external DataFrame df:\n",
    "    #      X => df[columns]\n",
    "    #      Y => df['admit']\n",
    "    #  goess through n_cv folds\n",
    "    #  repeats \"repeat\" times\n",
    "    #  (12 calculations, if n_cv=4, and repeat=3)\n",
    "    #  returns dictionary \"res\" \n",
    "    #      keys   [precision, recall, f1core]\n",
    "    #      values as tuples (mean, std_deviation)\n",
    "    \"\"\"   \n",
    "    print(\"running \", label)\n",
    "    t1=time.time()\n",
    "    precisions = []\n",
    "    recalls = []\n",
    "    f1scores = []\n",
    "    n_cv = len(df.cv_fold.unique())\n",
    "\n",
    "    for cycle in range(repeat):\n",
    "        # ----------------------------\n",
    "        for n in range(n_cv):\n",
    "            print(\"(rep=%d, fold=%d), \" % (cycle,n), end='')\n",
    "            X_train = df[df.cv_fold != n][columns]\n",
    "            Y_train = df[df.cv_fold != n]['admit']\n",
    "            X_test = df[df.cv_fold == n][columns]\n",
    "            Y_test = df[df.cv_fold == n]['admit']\n",
    "            model.fit(X_train, Y_train)\n",
    "\n",
    "            Y_predict = model.predict(X_test)\n",
    "            recalls.append    (recall_score   (Y_test, Y_predict))\n",
    "            precisions.append (precision_score(Y_test, Y_predict))\n",
    "            f1scores.append   (f1_score       (Y_test, Y_predict))\n",
    "        print()\n",
    "        # ----------------------------\n",
    "\n",
    "    res = {}\n",
    "    res['precision'] = (np.mean(precisions), np.std(precisions))\n",
    "    res['recall']    = (np.mean(recalls), np.std(recalls))\n",
    "    res['f1score']   = (np.mean(f1scores),np.std(f1scores))\n",
    "\n",
    "    print(\"\\nfinished %d calculations\" % (repeat*n_cv))\n",
    "    print (\"Precision : %.6f +- %.6f\" % (np.mean(precisions) , np.std(precisions)))\n",
    "    print (\"Recall    : %.6f +- %.6f\" % (np.mean(recalls)    , np.std(recalls)))\n",
    "    print (\"F1 score  : %.6f +- %.6f\" % (np.mean(f1scores)   , np.std(f1scores)))\n",
    "    print(\"Elapsed %.2f sec\" % (time.time()-t1) )\n",
    "    print('-'*65,\"\\n\")\n",
    "    return res"
   ]
  },
  {
   "cell_type": "code",
   "execution_count": 14,
   "metadata": {},
   "outputs": [
    {
     "name": "stdout",
     "output_type": "stream",
     "text": [
      "running  Some Title\n",
      "(rep=0, fold=0), (rep=0, fold=1), (rep=0, fold=2), (rep=0, fold=3), \n",
      "(rep=1, fold=0), (rep=1, fold=1), (rep=1, fold=2), (rep=1, fold=3), \n",
      "(rep=2, fold=0), (rep=2, fold=1), (rep=2, fold=2), (rep=2, fold=3), \n",
      "\n",
      "finished 12 calculations\n",
      "Precision : 0.444501 +- 0.054081\n",
      "Recall    : 0.662897 +- 0.036887\n",
      "F1 score  : 0.528465 +- 0.029051\n",
      "Elapsed 0.13 sec\n",
      "----------------------------------------------------------------- \n",
      "\n"
     ]
    }
   ],
   "source": [
    "mymodel = LogisticRegression(class_weight=\"balanced\", solver='lbfgs')\n",
    "res = run_cv(mymodel, 'Some Title', columns=[\"gre\", \"gpa\", \"rank\"], repeat = 3)"
   ]
  },
  {
   "cell_type": "code",
   "execution_count": 15,
   "metadata": {},
   "outputs": [
    {
     "name": "stdout",
     "output_type": "stream",
     "text": [
      " precision  0.445 +/- 0.054\n",
      "    recall  0.663 +/- 0.037\n",
      "   f1score  0.528 +/- 0.029\n"
     ]
    }
   ],
   "source": [
    "for kk in res.keys():\n",
    "        (v1,v2) = res[kk]\n",
    "        v1 = round(v1,3)\n",
    "        v2 = round(v2,3)\n",
    "        res[kk] = (v1,v2)\n",
    "        print(\"%10s  %.3f +/- %.3f\" % (kk,v1,v2))\n"
   ]
  },
  {
   "cell_type": "code",
   "execution_count": 16,
   "metadata": {},
   "outputs": [
    {
     "data": {
      "text/plain": [
       "{'C': 1.0,\n",
       " 'class_weight': 'balanced',\n",
       " 'dual': False,\n",
       " 'fit_intercept': True,\n",
       " 'intercept_scaling': 1,\n",
       " 'l1_ratio': None,\n",
       " 'max_iter': 100,\n",
       " 'multi_class': 'auto',\n",
       " 'n_jobs': None,\n",
       " 'penalty': 'l2',\n",
       " 'random_state': None,\n",
       " 'solver': 'lbfgs',\n",
       " 'tol': 0.0001,\n",
       " 'verbose': 0,\n",
       " 'warm_start': False}"
      ]
     },
     "execution_count": 16,
     "metadata": {},
     "output_type": "execute_result"
    }
   ],
   "source": [
    "mymodel.get_params()"
   ]
  },
  {
   "cell_type": "code",
   "execution_count": 17,
   "metadata": {},
   "outputs": [
    {
     "data": {
      "text/plain": [
       "array([[ 0.00238248,  0.82482975, -0.51278972]])"
      ]
     },
     "execution_count": 17,
     "metadata": {},
     "output_type": "execute_result"
    }
   ],
   "source": [
    "mymodel.coef_"
   ]
  },
  {
   "cell_type": "code",
   "execution_count": null,
   "metadata": {},
   "outputs": [],
   "source": []
  }
 ],
 "metadata": {
  "kernelspec": {
   "display_name": "Python 3 (ipykernel)",
   "language": "python",
   "name": "python3"
  },
  "language_info": {
   "codemirror_mode": {
    "name": "ipython",
    "version": 3
   },
   "file_extension": ".py",
   "mimetype": "text/x-python",
   "name": "python",
   "nbconvert_exporter": "python",
   "pygments_lexer": "ipython3",
   "version": "3.9.7"
  }
 },
 "nbformat": 4,
 "nbformat_minor": 4
}

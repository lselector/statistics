{
 "cells": [
  {
   "cell_type": "markdown",
   "id": "db600d9a",
   "metadata": {},
   "source": [
    "## Linear Regression Example Using statsmodels.api\n"
   ]
  },
  {
   "cell_type": "code",
   "execution_count": 1,
   "id": "380aad6d",
   "metadata": {
    "gather": {
     "logged": 1658940265215
    }
   },
   "outputs": [],
   "source": [
    "import os,sys\n",
    "import numpy as np\n",
    "import pandas as pd\n",
    "\n",
    "import sklearn\n",
    "from sklearn import linear_model\n",
    "from sklearn.metrics import mean_squared_error, r2_score\n",
    "from sklearn.model_selection import train_test_split\n",
    "\n",
    "import statsmodels.api as sm\n",
    "\n",
    "import matplotlib\n",
    "import matplotlib.pyplot as plt\n",
    "\n",
    "import seaborn as sns"
   ]
  },
  {
   "cell_type": "code",
   "execution_count": 2,
   "id": "182d7184",
   "metadata": {
    "gather": {
     "logged": 1658940267030
    }
   },
   "outputs": [
    {
     "name": "stdout",
     "output_type": "stream",
     "text": [
      "python 3.9.12\n",
      "np 1.23.1\n",
      "pd 1.4.3\n",
      "matplotlib 3.5.2\n",
      "sklearn 1.1.1\n",
      "sns 0.11.2\n",
      "sm 0.13.2\n"
     ]
    }
   ],
   "source": [
    "print('python',sys.version.split()[0])\n",
    "print('np',np.__version__)\n",
    "print('pd',pd.__version__)\n",
    "print('matplotlib',matplotlib.__version__)\n",
    "print('sklearn',sklearn.__version__)\n",
    "print('sns',sns.__version__)\n",
    "print('sm',sm.__version__)"
   ]
  },
  {
   "cell_type": "code",
   "execution_count": 3,
   "id": "4f1de9a8",
   "metadata": {
    "gather": {
     "logged": 1658476935050
    }
   },
   "outputs": [],
   "source": [
    "rng = np.random.RandomState(seed=None)\n",
    "target = 10 * rng.rand(200)                   # 200 random numbers in [0,10] \n",
    "x1 = 2 * target - 5 + rng.randn(200) * 0.5    # two random columns\n",
    "x2 = 3 * target - 3 + rng.randn(200) * 0.5\n",
    "df = pd.DataFrame({'target':target,'x1':x1,'x2':x2})"
   ]
  },
  {
   "cell_type": "code",
   "execution_count": 4,
   "id": "df6aa652",
   "metadata": {
    "gather": {
     "logged": 1658476935166
    }
   },
   "outputs": [
    {
     "data": {
      "text/plain": [
       "(200, 3)"
      ]
     },
     "execution_count": 4,
     "metadata": {},
     "output_type": "execute_result"
    }
   ],
   "source": [
    "# Shape of our dataset\n",
    "df.shape"
   ]
  },
  {
   "cell_type": "code",
   "execution_count": 5,
   "id": "3334bd4a",
   "metadata": {
    "gather": {
     "logged": 1658476935166
    }
   },
   "outputs": [
    {
     "name": "stdout",
     "output_type": "stream",
     "text": [
      "<class 'pandas.core.frame.DataFrame'>\n",
      "RangeIndex: 200 entries, 0 to 199\n",
      "Data columns (total 3 columns):\n",
      " #   Column  Non-Null Count  Dtype  \n",
      "---  ------  --------------  -----  \n",
      " 0   target  200 non-null    float64\n",
      " 1   x1      200 non-null    float64\n",
      " 2   x2      200 non-null    float64\n",
      "dtypes: float64(3)\n",
      "memory usage: 4.8 KB\n"
     ]
    }
   ],
   "source": [
    "# Info our dataset\n",
    "df.info()"
   ]
  },
  {
   "cell_type": "code",
   "execution_count": 6,
   "id": "e9aafc25",
   "metadata": {
    "gather": {
     "logged": 1658476935166
    }
   },
   "outputs": [
    {
     "data": {
      "text/html": [
       "<div>\n",
       "<style scoped>\n",
       "    .dataframe tbody tr th:only-of-type {\n",
       "        vertical-align: middle;\n",
       "    }\n",
       "\n",
       "    .dataframe tbody tr th {\n",
       "        vertical-align: top;\n",
       "    }\n",
       "\n",
       "    .dataframe thead th {\n",
       "        text-align: right;\n",
       "    }\n",
       "</style>\n",
       "<table border=\"1\" class=\"dataframe\">\n",
       "  <thead>\n",
       "    <tr style=\"text-align: right;\">\n",
       "      <th></th>\n",
       "      <th>target</th>\n",
       "      <th>x1</th>\n",
       "      <th>x2</th>\n",
       "    </tr>\n",
       "  </thead>\n",
       "  <tbody>\n",
       "    <tr>\n",
       "      <th>count</th>\n",
       "      <td>200.000000</td>\n",
       "      <td>200.000000</td>\n",
       "      <td>200.000000</td>\n",
       "    </tr>\n",
       "    <tr>\n",
       "      <th>mean</th>\n",
       "      <td>5.110755</td>\n",
       "      <td>5.191527</td>\n",
       "      <td>12.347450</td>\n",
       "    </tr>\n",
       "    <tr>\n",
       "      <th>std</th>\n",
       "      <td>2.909917</td>\n",
       "      <td>5.818245</td>\n",
       "      <td>8.673845</td>\n",
       "    </tr>\n",
       "    <tr>\n",
       "      <th>min</th>\n",
       "      <td>0.019624</td>\n",
       "      <td>-5.179901</td>\n",
       "      <td>-3.347806</td>\n",
       "    </tr>\n",
       "    <tr>\n",
       "      <th>25%</th>\n",
       "      <td>2.664137</td>\n",
       "      <td>0.036414</td>\n",
       "      <td>5.005086</td>\n",
       "    </tr>\n",
       "    <tr>\n",
       "      <th>50%</th>\n",
       "      <td>5.143176</td>\n",
       "      <td>5.302439</td>\n",
       "      <td>12.504569</td>\n",
       "    </tr>\n",
       "    <tr>\n",
       "      <th>75%</th>\n",
       "      <td>7.760262</td>\n",
       "      <td>10.259197</td>\n",
       "      <td>20.251726</td>\n",
       "    </tr>\n",
       "    <tr>\n",
       "      <th>max</th>\n",
       "      <td>9.947676</td>\n",
       "      <td>15.233039</td>\n",
       "      <td>27.144816</td>\n",
       "    </tr>\n",
       "  </tbody>\n",
       "</table>\n",
       "</div>"
      ],
      "text/plain": [
       "           target          x1          x2\n",
       "count  200.000000  200.000000  200.000000\n",
       "mean     5.110755    5.191527   12.347450\n",
       "std      2.909917    5.818245    8.673845\n",
       "min      0.019624   -5.179901   -3.347806\n",
       "25%      2.664137    0.036414    5.005086\n",
       "50%      5.143176    5.302439   12.504569\n",
       "75%      7.760262   10.259197   20.251726\n",
       "max      9.947676   15.233039   27.144816"
      ]
     },
     "execution_count": 6,
     "metadata": {},
     "output_type": "execute_result"
    }
   ],
   "source": [
    "# Describe our dataset\n",
    "df.describe()"
   ]
  },
  {
   "cell_type": "code",
   "execution_count": 7,
   "id": "44c23e52",
   "metadata": {
    "gather": {
     "logged": 1658476935268
    }
   },
   "outputs": [
    {
     "data": {
      "image/png": "[encoded data removed]",
      "text/plain": [
       "<Figure size 288x144 with 2 Axes>"
      ]
     },
     "metadata": {
      "needs_background": "light"
     },
     "output_type": "display_data"
    }
   ],
   "source": [
    "# Using pairplot we'll visualize the data for correlation\n",
    "sns.pairplot(df, x_vars=['x1','x2'], y_vars='target', \n",
    "             height=2, aspect=1, kind='scatter')\n",
    "plt.show()"
   ]
  },
  {
   "cell_type": "code",
   "execution_count": 8,
   "id": "8cbaeadd",
   "metadata": {
    "gather": {
     "logged": 1658476935321
    }
   },
   "outputs": [
    {
     "data": {
      "image/png": "[encoded data removed]",
      "text/plain": [
       "<Figure size 800x200 with 3 Axes>"
      ]
     },
     "metadata": {},
     "output_type": "display_data"
    }
   ],
   "source": [
    "df.hist(figsize=(8, 2), layout=(1,3), bins=30, edgecolor=\"black\")\n",
    "plt.subplots_adjust(hspace=0.4, wspace=0.2)"
   ]
  },
  {
   "cell_type": "markdown",
   "id": "294d3b5a",
   "metadata": {},
   "source": [
    "### One-dimensional Linear Regression"
   ]
  },
  {
   "cell_type": "code",
   "execution_count": 9,
   "id": "8eb4030b",
   "metadata": {
    "gather": {
     "logged": 1658476935388
    }
   },
   "outputs": [],
   "source": [
    "# Creating X and y\n",
    "X = df['x1']\n",
    "y = df['target']"
   ]
  },
  {
   "cell_type": "code",
   "execution_count": 10,
   "id": "52662545",
   "metadata": {
    "gather": {
     "logged": 1658476935441
    }
   },
   "outputs": [],
   "source": [
    "# Splitting the varaibles as training and testing\n",
    "X_train, X_test, y_train, y_test = train_test_split(X, y, train_size = 0.7, \n",
    "                                                    test_size = 0.3, random_state = 100)"
   ]
  },
  {
   "cell_type": "code",
   "execution_count": 11,
   "id": "f702720c",
   "metadata": {
    "gather": {
     "logged": 1658476935507
    }
   },
   "outputs": [
    {
     "name": "stdout",
     "output_type": "stream",
     "text": [
      "74     11.538092\n",
      "3       8.301283\n",
      "185    -1.050606\n",
      "26      1.623966\n",
      "90     12.005499\n",
      "         ...    \n",
      "87      7.629076\n",
      "103     9.388192\n",
      "67     12.379178\n",
      "24     13.750936\n",
      "8       2.063595\n",
      "Name: x1, Length: 140, dtype: float64\n",
      "----------------------------------------\n",
      "74     7.911260\n",
      "3      6.897781\n",
      "185    2.086998\n",
      "26     3.380648\n",
      "90     8.331182\n",
      "         ...   \n",
      "87     6.609142\n",
      "103    7.177397\n",
      "67     8.800715\n",
      "24     9.476464\n",
      "8      3.954797\n",
      "Name: target, Length: 140, dtype: float64\n"
     ]
    }
   ],
   "source": [
    "# Take a look at the train dataset\n",
    "print(X_train)\n",
    "print(\"-\"*40)\n",
    "print(y_train)"
   ]
  },
  {
   "cell_type": "code",
   "execution_count": 12,
   "id": "e8a525a7",
   "metadata": {
    "gather": {
     "logged": 1658476935557
    }
   },
   "outputs": [
    {
     "name": "stdout",
     "output_type": "stream",
     "text": [
      "74     11.538092\n",
      "3       8.301283\n",
      "185    -1.050606\n",
      "26      1.623966\n",
      "90     12.005499\n",
      "Name: x1, dtype: float64\n",
      "----------------------------------------\n",
      "     const         x1\n",
      "74     1.0  11.538092\n",
      "3      1.0   8.301283\n",
      "185    1.0  -1.050606\n",
      "26     1.0   1.623966\n",
      "90     1.0  12.005499\n"
     ]
    }
   ],
   "source": [
    "# According to documentation, \n",
    "# we need to add a column with ones to get intercept:\n",
    "# https://www.statsmodels.org/devel/generated/statsmodels.regression.linear_model.OLS.html\n",
    "    \n",
    "# Add a column of ones to an array\n",
    "X_train_sm = sm.add_constant(X_train)\n",
    "print(X_train.head())\n",
    "print(\"-\"*40)\n",
    "print(X_train_sm.head())"
   ]
  },
  {
   "cell_type": "code",
   "execution_count": 13,
   "id": "dd759532",
   "metadata": {
    "gather": {
     "logged": 1658476935624
    }
   },
   "outputs": [
    {
     "data": {
      "text/plain": [
       "const    2.536182\n",
       "x1       0.496574\n",
       "dtype: float64"
      ]
     },
     "execution_count": 13,
     "metadata": {},
     "output_type": "execute_result"
    }
   ],
   "source": [
    "# Fitting the resgression line using 'OLS'\n",
    "lr = sm.OLS(y_train, X_train_sm).fit()\n",
    "\n",
    "# Printing the parameters\n",
    "# (const = intercept, x1 = slope)\n",
    "lr.params"
   ]
  },
  {
   "cell_type": "code",
   "execution_count": 14,
   "id": "a96f565f",
   "metadata": {},
   "outputs": [
    {
     "name": "stdout",
     "output_type": "stream",
     "text": [
      "a=2.536, b=0.497\n"
     ]
    }
   ],
   "source": [
    "# formula: y = a + bx\n",
    "a = lr.params['const']\n",
    "b = lr.params['x1']\n",
    "print(f\"a={a:.3f}, b={b:.3f}\")"
   ]
  },
  {
   "cell_type": "code",
   "execution_count": 15,
   "id": "3084270b",
   "metadata": {
    "gather": {
     "logged": 1658476935684
    }
   },
   "outputs": [
    {
     "data": {
      "text/html": [
       "<table class=\"simpletable\">\n",
       "<caption>OLS Regression Results</caption>\n",
       "<tr>\n",
       "  <th>Dep. Variable:</th>         <td>target</td>      <th>  R-squared:         </th> <td>   0.992</td> \n",
       "</tr>\n",
       "<tr>\n",
       "  <th>Model:</th>                   <td>OLS</td>       <th>  Adj. R-squared:    </th> <td>   0.992</td> \n",
       "</tr>\n",
       "<tr>\n",
       "  <th>Method:</th>             <td>Least Squares</td>  <th>  F-statistic:       </th> <td>1.757e+04</td>\n",
       "</tr>\n",
       "<tr>\n",
       "  <th>Date:</th>             <td>Thu, 29 Dec 2022</td> <th>  Prob (F-statistic):</th> <td>2.27e-147</td>\n",
       "</tr>\n",
       "<tr>\n",
       "  <th>Time:</th>                 <td>13:16:13</td>     <th>  Log-Likelihood:    </th> <td> -6.2988</td> \n",
       "</tr>\n",
       "<tr>\n",
       "  <th>No. Observations:</th>      <td>   140</td>      <th>  AIC:               </th> <td>   16.60</td> \n",
       "</tr>\n",
       "<tr>\n",
       "  <th>Df Residuals:</th>          <td>   138</td>      <th>  BIC:               </th> <td>   22.48</td> \n",
       "</tr>\n",
       "<tr>\n",
       "  <th>Df Model:</th>              <td>     1</td>      <th>                     </th>     <td> </td>    \n",
       "</tr>\n",
       "<tr>\n",
       "  <th>Covariance Type:</th>      <td>nonrobust</td>    <th>                     </th>     <td> </td>    \n",
       "</tr>\n",
       "</table>\n",
       "<table class=\"simpletable\">\n",
       "<tr>\n",
       "    <td></td>       <th>coef</th>     <th>std err</th>      <th>t</th>      <th>P>|t|</th>  <th>[0.025</th>    <th>0.975]</th>  \n",
       "</tr>\n",
       "<tr>\n",
       "  <th>const</th> <td>    2.5362</td> <td>    0.029</td> <td>   87.141</td> <td> 0.000</td> <td>    2.479</td> <td>    2.594</td>\n",
       "</tr>\n",
       "<tr>\n",
       "  <th>x1</th>    <td>    0.4966</td> <td>    0.004</td> <td>  132.561</td> <td> 0.000</td> <td>    0.489</td> <td>    0.504</td>\n",
       "</tr>\n",
       "</table>\n",
       "<table class=\"simpletable\">\n",
       "<tr>\n",
       "  <th>Omnibus:</th>       <td> 2.231</td> <th>  Durbin-Watson:     </th> <td>   2.085</td>\n",
       "</tr>\n",
       "<tr>\n",
       "  <th>Prob(Omnibus):</th> <td> 0.328</td> <th>  Jarque-Bera (JB):  </th> <td>   2.030</td>\n",
       "</tr>\n",
       "<tr>\n",
       "  <th>Skew:</th>          <td> 0.295</td> <th>  Prob(JB):          </th> <td>   0.362</td>\n",
       "</tr>\n",
       "<tr>\n",
       "  <th>Kurtosis:</th>      <td> 3.002</td> <th>  Cond. No.          </th> <td>    10.6</td>\n",
       "</tr>\n",
       "</table><br/><br/>Notes:<br/>[1] Standard Errors assume that the covariance matrix of the errors is correctly specified."
      ],
      "text/plain": [
       "<class 'statsmodels.iolib.summary.Summary'>\n",
       "\"\"\"\n",
       "                            OLS Regression Results                            \n",
       "==============================================================================\n",
       "Dep. Variable:                 target   R-squared:                       0.992\n",
       "Model:                            OLS   Adj. R-squared:                  0.992\n",
       "Method:                 Least Squares   F-statistic:                 1.757e+04\n",
       "Date:                Thu, 29 Dec 2022   Prob (F-statistic):          2.27e-147\n",
       "Time:                        13:16:13   Log-Likelihood:                -6.2988\n",
       "No. Observations:                 140   AIC:                             16.60\n",
       "Df Residuals:                     138   BIC:                             22.48\n",
       "Df Model:                           1                                         \n",
       "Covariance Type:            nonrobust                                         \n",
       "==============================================================================\n",
       "                 coef    std err          t      P>|t|      [0.025      0.975]\n",
       "------------------------------------------------------------------------------\n",
       "const          2.5362      0.029     87.141      0.000       2.479       2.594\n",
       "x1             0.4966      0.004    132.561      0.000       0.489       0.504\n",
       "==============================================================================\n",
       "Omnibus:                        2.231   Durbin-Watson:                   2.085\n",
       "Prob(Omnibus):                  0.328   Jarque-Bera (JB):                2.030\n",
       "Skew:                           0.295   Prob(JB):                        0.362\n",
       "Kurtosis:                       3.002   Cond. No.                         10.6\n",
       "==============================================================================\n",
       "\n",
       "Notes:\n",
       "[1] Standard Errors assume that the covariance matrix of the errors is correctly specified.\n",
       "\"\"\""
      ]
     },
     "execution_count": 15,
     "metadata": {},
     "output_type": "execute_result"
    }
   ],
   "source": [
    "# Performing a summary to list out all the different parameters of the regression line fitted\n",
    "lr.summary()"
   ]
  },
  {
   "cell_type": "code",
   "execution_count": 16,
   "id": "7d3ddb10",
   "metadata": {
    "gather": {
     "logged": 1658476936757
    }
   },
   "outputs": [
    {
     "data": {
      "image/png": "[encoded data removed]",
      "text/plain": [
       "<Figure size 400x300 with 1 Axes>"
      ]
     },
     "metadata": {},
     "output_type": "display_data"
    }
   ],
   "source": [
    "# Visualizing the regression line\n",
    "fig = plt.figure(figsize=(4,3))\n",
    "plt.scatter(X_train, y_train,marker='.', s=1, color='g')\n",
    "plt.plot(X_train, a + b*X_train, lw=0.5, color='r')\n",
    "plt.show()"
   ]
  },
  {
   "cell_type": "code",
   "execution_count": 17,
   "id": "faa061b2",
   "metadata": {
    "gather": {
     "logged": 1658476936831
    }
   },
   "outputs": [],
   "source": [
    "# Predicting y_value using training data of X\n",
    "y_train_pred = lr.predict(X_train_sm)\n",
    "\n",
    "# Creating residuals from the y_train data and predicted y_data\n",
    "res = (y_train - y_train_pred)"
   ]
  },
  {
   "cell_type": "code",
   "execution_count": 18,
   "id": "c4693625",
   "metadata": {
    "gather": {
     "logged": 1658476936910
    }
   },
   "outputs": [
    {
     "data": {
      "image/png": "[encoded data removed]",
      "text/plain": [
       "<Figure size 400x100 with 1 Axes>"
      ]
     },
     "metadata": {},
     "output_type": "display_data"
    }
   ],
   "source": [
    "# Plotting the histogram using the residual values\n",
    "fig = plt.figure(figsize=(4,1))\n",
    "sns.histplot(res, bins = 15)\n",
    "plt.title('Error Terms', fontsize = 10)\n",
    "plt.xlabel('(y_train - y_train_pred)', fontsize = 10)\n",
    "plt.show()"
   ]
  },
  {
   "cell_type": "code",
   "execution_count": 19,
   "id": "d2b1be29",
   "metadata": {
    "gather": {
     "logged": 1658476936992
    }
   },
   "outputs": [
    {
     "data": {
      "image/png": "[encoded data removed]",
      "text/plain": [
       "<Figure size 400x300 with 1 Axes>"
      ]
     },
     "metadata": {},
     "output_type": "display_data"
    }
   ],
   "source": [
    "# Looking for any patterns in the residuals\n",
    "fig = plt.figure(figsize=(4,3))\n",
    "plt.scatter(X_train,res)\n",
    "plt.show()"
   ]
  },
  {
   "cell_type": "code",
   "execution_count": 20,
   "id": "a0444dcb",
   "metadata": {
    "gather": {
     "logged": 1658476937075
    }
   },
   "outputs": [
    {
     "data": {
      "text/plain": [
       "126    2.806103\n",
       "104    1.988845\n",
       "99     2.349726\n",
       "92     9.356013\n",
       "111    5.517243\n",
       "167    8.124196\n",
       "116    7.199562\n",
       "96     0.640238\n",
       "52     7.390090\n",
       "69     2.111341\n",
       "dtype: float64"
      ]
     },
     "execution_count": 20,
     "metadata": {},
     "output_type": "execute_result"
    }
   ],
   "source": [
    "# now using the model on the \"test\" data\n",
    "\n",
    "# Adding a constant to X_test\n",
    "X_test_sm = sm.add_constant(X_test)\n",
    "\n",
    "# Predicting the y values corresponding to X_test_sm\n",
    "y_test_pred = lr.predict(X_test_sm)\n",
    "\n",
    "# Printing the first 10 predicted values\n",
    "y_test_pred.head(10)"
   ]
  },
  {
   "cell_type": "code",
   "execution_count": 21,
   "id": "6aa606ca",
   "metadata": {
    "gather": {
     "logged": 1658476937152
    }
   },
   "outputs": [
    {
     "name": "stdout",
     "output_type": "stream",
     "text": [
      "r_squared = 0.9936\n"
     ]
    }
   ],
   "source": [
    "# Checking the R-squared value\n",
    "r_squared = r2_score(y_test, y_test_pred)\n",
    "print(f\"r_squared = {r_squared:.4f}\")"
   ]
  },
  {
   "cell_type": "code",
   "execution_count": 22,
   "id": "06c66923",
   "metadata": {
    "gather": {
     "logged": 1658476937230
    }
   },
   "outputs": [
    {
     "data": {
      "image/png": "[encoded data removed]",
      "text/plain": [
       "<Figure size 400x300 with 1 Axes>"
      ]
     },
     "metadata": {},
     "output_type": "display_data"
    }
   ],
   "source": [
    "# Visualize the line on the test set\n",
    "\n",
    "fig = plt.figure(figsize=(4,3))\n",
    "plt.scatter(X_test, y_test, marker='.', s=3, color='g')\n",
    "plt.plot(X_test, y_test_pred, lw=0.5, color='r')\n",
    "plt.show()"
   ]
  },
  {
   "cell_type": "code",
   "execution_count": null,
   "id": "b65376fd",
   "metadata": {},
   "outputs": [],
   "source": []
  }
 ],
 "metadata": {
  "kernel_info": {
   "name": "python3"
  },
  "kernelspec": {
   "display_name": "Python 3 (ipykernel)",
   "language": "python",
   "name": "python3"
  },
  "language_info": {
   "codemirror_mode": {
    "name": "ipython",
    "version": 3
   },
   "file_extension": ".py",
   "mimetype": "text/x-python",
   "name": "python",
   "nbconvert_exporter": "python",
   "pygments_lexer": "ipython3",
   "version": "3.9.12"
  },
  "microsoft": {
   "host": {
    "AzureML": {
     "notebookHasBeenCompleted": true
    }
   }
  },
  "nteract": {
   "version": "nteract-front-end@1.0.0"
  }
 },
 "nbformat": 4,
 "nbformat_minor": 5
}

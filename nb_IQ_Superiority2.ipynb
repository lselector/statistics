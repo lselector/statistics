{
 "cells": [
  {
   "cell_type": "markdown",
   "metadata": {},
   "source": [
    "### Illustrating efects of tails of distribution.\n",
    "```\n",
    "IQ distribution has mean=1, sigma=15.\n",
    "Suppose the population conists of 2 groups:\n",
    "A = 300 Mln people with IQ = N(100,15)\n",
    "B =   6 Mln people with IQ = N(111,17)\n",
    "What is the number of people from both groups \n",
    "with IQ > than some high value?\n",
    "```"
   ]
  },
  {
   "cell_type": "code",
   "execution_count": 20,
   "metadata": {
    "ExecuteTime": {
     "end_time": "2021-07-30T23:55:05.985840Z",
     "start_time": "2021-07-30T23:55:05.976018Z"
    }
   },
   "outputs": [],
   "source": [
    "import sys, os\n",
    "%config InlineBackend.figure_format = 'retina'\n",
    "from scipy.stats import norm\n"
   ]
  },
  {
   "cell_type": "code",
   "execution_count": 42,
   "metadata": {
    "ExecuteTime": {
     "end_time": "2021-07-31T00:10:03.508067Z",
     "start_time": "2021-07-31T00:10:03.497355Z"
    }
   },
   "outputs": [
    {
     "name": "stdout",
     "output_type": "stream",
     "text": [
      "      Na = 300,000,000,   Nb = 6,000,000\n",
      " 80 : Na_= 272,636,634,   Nb_= 5,883,703\n",
      " 83 : Na_= 261,438,855,   Nb_= 5,814,155\n",
      " 90 : Na_= 224,252,238,   Nb_= 5,515,460\n",
      "100 : Na_= 150,000,000,   Nb_= 4,609,934\n",
      "110 : Na_=  75,747,761,   Nb_= 3,159,458\n",
      "120 : Na_=  27,363,365,   Nb_= 1,645,518\n",
      "130 : Na_=   6,825,039,   Nb_=   615,823\n",
      "140 : Na_=   1,149,114,   Nb_=   159,585\n",
      "150 : Na_=     128,718,   Nb_=    27,967\n",
      "160 : Na_=       9,501,   Nb_=     3,264\n",
      "170 : Na_=         459,   Nb_=       251\n",
      "180 : Na_=          14,   Nb_=        12\n"
     ]
    }
   ],
   "source": [
    "Na = 3*10**8\n",
    "Nb = 6*10**6\n",
    "sig_a = 15.0\n",
    "sig_b = 15.0\n",
    "\n",
    "print(f\"      {Na =:12,d},   {Nb =:10,d}\")\n",
    "for iq in [80,83,90,100,110,120,130,140,150,160,170,180]:\n",
    "    N_sig_a = (iq-100)/sig_a\n",
    "    N_sig_b = (iq-111)/sig_b\n",
    "    Na_ = int(Na*(1-norm.cdf(N_sig_a)))\n",
    "    Nb_ = int(Nb*(1-norm.cdf(N_sig_b)))\n",
    "    print(f\"{iq:3d} : {Na_=:12,d},   {Nb_=:10,d}\")\n"
   ]
  },
  {
   "cell_type": "code",
   "execution_count": null,
   "metadata": {},
   "outputs": [],
   "source": []
  }
 ],
 "metadata": {
  "kernelspec": {
   "display_name": "Python 3",
   "language": "python",
   "name": "python3"
  },
  "language_info": {
   "codemirror_mode": {
    "name": "ipython",
    "version": 3
   },
   "file_extension": ".py",
   "mimetype": "text/x-python",
   "name": "python",
   "nbconvert_exporter": "python",
   "pygments_lexer": "ipython3",
   "version": "3.8.5"
  }
 },
 "nbformat": 4,
 "nbformat_minor": 4
}

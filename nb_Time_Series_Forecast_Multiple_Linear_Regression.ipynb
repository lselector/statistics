{
 "cells": [
  {
   "cell_type": "markdown",
   "metadata": {},
   "source": [
    "### Time_Series_Forecast_Multiple_Linear_Regression\n",
    "changed from this video - https://www.youtube.com/watch?v=td9QLuijh9c\n"
   ]
  },
  {
   "cell_type": "code",
   "execution_count": 4,
   "metadata": {},
   "outputs": [],
   "source": [
    "import os, sys, io\n",
    "import pandas as pd\n",
    "import numpy as np\n",
    "import statsmodels.api as sm\n",
    "import sklearn\n",
    "from sklearn.linear_model import LinearRegression\n",
    "import matplotlib.pyplot as plt\n",
    "%config InlineBackend.figure_format = 'retina'"
   ]
  },
  {
   "cell_type": "code",
   "execution_count": 5,
   "metadata": {},
   "outputs": [
    {
     "name": "stdout",
     "output_type": "stream",
     "text": [
      "Python 3.9.12\r\n"
     ]
    }
   ],
   "source": [
    "!python --version"
   ]
  },
  {
   "cell_type": "code",
   "execution_count": 6,
   "metadata": {},
   "outputs": [],
   "source": [
    "data_string = \"\"\"YR,QTR,Sales\n",
    "2009,1,50147\n",
    "2009,2,49325\n",
    "2009,3,57048\n",
    "2009,4,76781\n",
    "2010,1,48617\n",
    "2010,2,50898\n",
    "2010,3,58517\n",
    "2010,4,77691\n",
    "2011,1,50862\n",
    "2011,2,53028\n",
    "2011,3,58849\n",
    "2011,4,79660\n",
    "2012,1,51640\n",
    "2012,2,54119\n",
    "2012,3,65681\n",
    "2012,4,85175\n",
    "2013,1,56405\n",
    "2013,2,60031\n",
    "2013,3,71486\n",
    "2013,4,92183\n",
    "2014,1,60800\n",
    "2014,2,64900\n",
    "2014,3,76997\n",
    "2014,4,103337\n",
    "2015,1,\n",
    "2015,2,\n",
    "2015,3,\n",
    "2015,4,\n",
    "\"\"\"\n",
    "\n",
    "data = io. StringIO(data_string)\n",
    "df_orig = pd.read_csv(data, sep=\",\")\n",
    "df = df_orig.copy()"
   ]
  },
  {
   "cell_type": "code",
   "execution_count": 7,
   "metadata": {},
   "outputs": [
    {
     "data": {
      "text/html": [
       "<div>\n",
       "<style scoped>\n",
       "    .dataframe tbody tr th:only-of-type {\n",
       "        vertical-align: middle;\n",
       "    }\n",
       "\n",
       "    .dataframe tbody tr th {\n",
       "        vertical-align: top;\n",
       "    }\n",
       "\n",
       "    .dataframe thead th {\n",
       "        text-align: right;\n",
       "    }\n",
       "</style>\n",
       "<table border=\"1\" class=\"dataframe\">\n",
       "  <thead>\n",
       "    <tr style=\"text-align: right;\">\n",
       "      <th></th>\n",
       "      <th>YR</th>\n",
       "      <th>QTR</th>\n",
       "      <th>Sales</th>\n",
       "    </tr>\n",
       "  </thead>\n",
       "  <tbody>\n",
       "    <tr>\n",
       "      <th>0</th>\n",
       "      <td>2009</td>\n",
       "      <td>1</td>\n",
       "      <td>50147.0</td>\n",
       "    </tr>\n",
       "    <tr>\n",
       "      <th>1</th>\n",
       "      <td>2009</td>\n",
       "      <td>2</td>\n",
       "      <td>49325.0</td>\n",
       "    </tr>\n",
       "    <tr>\n",
       "      <th>2</th>\n",
       "      <td>2009</td>\n",
       "      <td>3</td>\n",
       "      <td>57048.0</td>\n",
       "    </tr>\n",
       "    <tr>\n",
       "      <th>3</th>\n",
       "      <td>2009</td>\n",
       "      <td>4</td>\n",
       "      <td>76781.0</td>\n",
       "    </tr>\n",
       "    <tr>\n",
       "      <th>4</th>\n",
       "      <td>2010</td>\n",
       "      <td>1</td>\n",
       "      <td>48617.0</td>\n",
       "    </tr>\n",
       "  </tbody>\n",
       "</table>\n",
       "</div>"
      ],
      "text/plain": [
       "     YR  QTR    Sales\n",
       "0  2009    1  50147.0\n",
       "1  2009    2  49325.0\n",
       "2  2009    3  57048.0\n",
       "3  2009    4  76781.0\n",
       "4  2010    1  48617.0"
      ]
     },
     "metadata": {},
     "output_type": "display_data"
    },
    {
     "data": {
      "text/plain": [
       "'----------------------------------------'"
      ]
     },
     "metadata": {},
     "output_type": "display_data"
    },
    {
     "data": {
      "text/html": [
       "<div>\n",
       "<style scoped>\n",
       "    .dataframe tbody tr th:only-of-type {\n",
       "        vertical-align: middle;\n",
       "    }\n",
       "\n",
       "    .dataframe tbody tr th {\n",
       "        vertical-align: top;\n",
       "    }\n",
       "\n",
       "    .dataframe thead th {\n",
       "        text-align: right;\n",
       "    }\n",
       "</style>\n",
       "<table border=\"1\" class=\"dataframe\">\n",
       "  <thead>\n",
       "    <tr style=\"text-align: right;\">\n",
       "      <th></th>\n",
       "      <th>YR</th>\n",
       "      <th>QTR</th>\n",
       "      <th>Sales</th>\n",
       "    </tr>\n",
       "  </thead>\n",
       "  <tbody>\n",
       "    <tr>\n",
       "      <th>23</th>\n",
       "      <td>2014</td>\n",
       "      <td>4</td>\n",
       "      <td>103337.0</td>\n",
       "    </tr>\n",
       "    <tr>\n",
       "      <th>24</th>\n",
       "      <td>2015</td>\n",
       "      <td>1</td>\n",
       "      <td>NaN</td>\n",
       "    </tr>\n",
       "    <tr>\n",
       "      <th>25</th>\n",
       "      <td>2015</td>\n",
       "      <td>2</td>\n",
       "      <td>NaN</td>\n",
       "    </tr>\n",
       "    <tr>\n",
       "      <th>26</th>\n",
       "      <td>2015</td>\n",
       "      <td>3</td>\n",
       "      <td>NaN</td>\n",
       "    </tr>\n",
       "    <tr>\n",
       "      <th>27</th>\n",
       "      <td>2015</td>\n",
       "      <td>4</td>\n",
       "      <td>NaN</td>\n",
       "    </tr>\n",
       "  </tbody>\n",
       "</table>\n",
       "</div>"
      ],
      "text/plain": [
       "      YR  QTR     Sales\n",
       "23  2014    4  103337.0\n",
       "24  2015    1       NaN\n",
       "25  2015    2       NaN\n",
       "26  2015    3       NaN\n",
       "27  2015    4       NaN"
      ]
     },
     "metadata": {},
     "output_type": "display_data"
    },
    {
     "data": {
      "text/plain": [
       "'----------------------------------------'"
      ]
     },
     "metadata": {},
     "output_type": "display_data"
    },
    {
     "data": {
      "text/plain": [
       "YR         int64\n",
       "QTR        int64\n",
       "Sales    float64\n",
       "dtype: object"
      ]
     },
     "metadata": {},
     "output_type": "display_data"
    },
    {
     "data": {
      "text/plain": [
       "'----------------------------------------'"
      ]
     },
     "metadata": {},
     "output_type": "display_data"
    }
   ],
   "source": [
    "display(df.head())\n",
    "display(\"-\"*40)\n",
    "display(df.tail())\n",
    "display(\"-\"*40)\n",
    "display(df.dtypes)\n",
    "display(\"-\"*40)"
   ]
  },
  {
   "cell_type": "code",
   "execution_count": 8,
   "metadata": {},
   "outputs": [
    {
     "data": {
      "image/png": "[encoded data removed]",
      "text/plain": [
       "<Figure size 432x288 with 1 Axes>"
      ]
     },
     "metadata": {
      "image/png": {
       "height": 279,
       "width": 425
      },
      "needs_background": "light"
     },
     "output_type": "display_data"
    }
   ],
   "source": [
    "fig, ax = plt.subplots(figsize=(6,4))\n",
    "_ = ax.plot(df.index,df.Sales,color=\"blue\")\n",
    "_ = ax.set_title(f\"Quarterly Sales\")\n",
    "_ = ax.grid(True)\n",
    "fig.tight_layout()\n",
    "plt.show() ; # semicolon needed to remove text output on top"
   ]
  },
  {
   "cell_type": "code",
   "execution_count": 9,
   "metadata": {},
   "outputs": [
    {
     "data": {
      "text/html": [
       "<div>\n",
       "<style scoped>\n",
       "    .dataframe tbody tr th:only-of-type {\n",
       "        vertical-align: middle;\n",
       "    }\n",
       "\n",
       "    .dataframe tbody tr th {\n",
       "        vertical-align: top;\n",
       "    }\n",
       "\n",
       "    .dataframe thead th {\n",
       "        text-align: right;\n",
       "    }\n",
       "</style>\n",
       "<table border=\"1\" class=\"dataframe\">\n",
       "  <thead>\n",
       "    <tr style=\"text-align: right;\">\n",
       "      <th></th>\n",
       "      <th>YR</th>\n",
       "      <th>QTR</th>\n",
       "      <th>Sales</th>\n",
       "      <th>t_qtr</th>\n",
       "      <th>t_qtr2</th>\n",
       "      <th>t_qtr3</th>\n",
       "    </tr>\n",
       "  </thead>\n",
       "  <tbody>\n",
       "    <tr>\n",
       "      <th>0</th>\n",
       "      <td>2009</td>\n",
       "      <td>1</td>\n",
       "      <td>50147.0</td>\n",
       "      <td>1</td>\n",
       "      <td>1</td>\n",
       "      <td>1</td>\n",
       "    </tr>\n",
       "    <tr>\n",
       "      <th>1</th>\n",
       "      <td>2009</td>\n",
       "      <td>2</td>\n",
       "      <td>49325.0</td>\n",
       "      <td>2</td>\n",
       "      <td>4</td>\n",
       "      <td>8</td>\n",
       "    </tr>\n",
       "    <tr>\n",
       "      <th>2</th>\n",
       "      <td>2009</td>\n",
       "      <td>3</td>\n",
       "      <td>57048.0</td>\n",
       "      <td>3</td>\n",
       "      <td>9</td>\n",
       "      <td>27</td>\n",
       "    </tr>\n",
       "    <tr>\n",
       "      <th>3</th>\n",
       "      <td>2009</td>\n",
       "      <td>4</td>\n",
       "      <td>76781.0</td>\n",
       "      <td>4</td>\n",
       "      <td>16</td>\n",
       "      <td>64</td>\n",
       "    </tr>\n",
       "    <tr>\n",
       "      <th>4</th>\n",
       "      <td>2010</td>\n",
       "      <td>1</td>\n",
       "      <td>48617.0</td>\n",
       "      <td>5</td>\n",
       "      <td>25</td>\n",
       "      <td>125</td>\n",
       "    </tr>\n",
       "  </tbody>\n",
       "</table>\n",
       "</div>"
      ],
      "text/plain": [
       "     YR  QTR    Sales  t_qtr  t_qtr2  t_qtr3\n",
       "0  2009    1  50147.0      1       1       1\n",
       "1  2009    2  49325.0      2       4       8\n",
       "2  2009    3  57048.0      3       9      27\n",
       "3  2009    4  76781.0      4      16      64\n",
       "4  2010    1  48617.0      5      25     125"
      ]
     },
     "metadata": {},
     "output_type": "display_data"
    }
   ],
   "source": [
    "df['t_qtr'] = df.index + 1\n",
    "df['t_qtr2'] = df['t_qtr']**2\n",
    "df['t_qtr3'] = df['t_qtr']**3\n",
    "display(df.head())"
   ]
  },
  {
   "cell_type": "code",
   "execution_count": 10,
   "metadata": {},
   "outputs": [
    {
     "data": {
      "text/html": [
       "<div>\n",
       "<style scoped>\n",
       "    .dataframe tbody tr th:only-of-type {\n",
       "        vertical-align: middle;\n",
       "    }\n",
       "\n",
       "    .dataframe tbody tr th {\n",
       "        vertical-align: top;\n",
       "    }\n",
       "\n",
       "    .dataframe thead th {\n",
       "        text-align: right;\n",
       "    }\n",
       "</style>\n",
       "<table border=\"1\" class=\"dataframe\">\n",
       "  <thead>\n",
       "    <tr style=\"text-align: right;\">\n",
       "      <th></th>\n",
       "      <th>YR</th>\n",
       "      <th>QTR</th>\n",
       "      <th>Sales</th>\n",
       "      <th>t_qtr</th>\n",
       "      <th>t_qtr2</th>\n",
       "      <th>t_qtr3</th>\n",
       "      <th>Qtr</th>\n",
       "    </tr>\n",
       "  </thead>\n",
       "  <tbody>\n",
       "    <tr>\n",
       "      <th>0</th>\n",
       "      <td>2009</td>\n",
       "      <td>1</td>\n",
       "      <td>50147.0</td>\n",
       "      <td>1</td>\n",
       "      <td>1</td>\n",
       "      <td>1</td>\n",
       "      <td>1</td>\n",
       "    </tr>\n",
       "    <tr>\n",
       "      <th>1</th>\n",
       "      <td>2009</td>\n",
       "      <td>2</td>\n",
       "      <td>49325.0</td>\n",
       "      <td>2</td>\n",
       "      <td>4</td>\n",
       "      <td>8</td>\n",
       "      <td>2</td>\n",
       "    </tr>\n",
       "    <tr>\n",
       "      <th>2</th>\n",
       "      <td>2009</td>\n",
       "      <td>3</td>\n",
       "      <td>57048.0</td>\n",
       "      <td>3</td>\n",
       "      <td>9</td>\n",
       "      <td>27</td>\n",
       "      <td>3</td>\n",
       "    </tr>\n",
       "    <tr>\n",
       "      <th>3</th>\n",
       "      <td>2009</td>\n",
       "      <td>4</td>\n",
       "      <td>76781.0</td>\n",
       "      <td>4</td>\n",
       "      <td>16</td>\n",
       "      <td>64</td>\n",
       "      <td>4</td>\n",
       "    </tr>\n",
       "    <tr>\n",
       "      <th>4</th>\n",
       "      <td>2010</td>\n",
       "      <td>1</td>\n",
       "      <td>48617.0</td>\n",
       "      <td>5</td>\n",
       "      <td>25</td>\n",
       "      <td>125</td>\n",
       "      <td>1</td>\n",
       "    </tr>\n",
       "  </tbody>\n",
       "</table>\n",
       "</div>"
      ],
      "text/plain": [
       "     YR  QTR    Sales  t_qtr  t_qtr2  t_qtr3 Qtr\n",
       "0  2009    1  50147.0      1       1       1   1\n",
       "1  2009    2  49325.0      2       4       8   2\n",
       "2  2009    3  57048.0      3       9      27   3\n",
       "3  2009    4  76781.0      4      16      64   4\n",
       "4  2010    1  48617.0      5      25     125   1"
      ]
     },
     "metadata": {},
     "output_type": "display_data"
    },
    {
     "data": {
      "text/plain": [
       "YR          int64\n",
       "QTR         int64\n",
       "Sales     float64\n",
       "t_qtr       int64\n",
       "t_qtr2      int64\n",
       "t_qtr3      int64\n",
       "Qtr        object\n",
       "dtype: object"
      ]
     },
     "metadata": {},
     "output_type": "display_data"
    }
   ],
   "source": [
    "df['Qtr'] = df['QTR'].astype(str)\n",
    "display(df.head())\n",
    "display(df.dtypes)"
   ]
  },
  {
   "cell_type": "code",
   "execution_count": 11,
   "metadata": {},
   "outputs": [
    {
     "data": {
      "text/html": [
       "<div>\n",
       "<style scoped>\n",
       "    .dataframe tbody tr th:only-of-type {\n",
       "        vertical-align: middle;\n",
       "    }\n",
       "\n",
       "    .dataframe tbody tr th {\n",
       "        vertical-align: top;\n",
       "    }\n",
       "\n",
       "    .dataframe thead th {\n",
       "        text-align: right;\n",
       "    }\n",
       "</style>\n",
       "<table border=\"1\" class=\"dataframe\">\n",
       "  <thead>\n",
       "    <tr style=\"text-align: right;\">\n",
       "      <th></th>\n",
       "      <th>YR</th>\n",
       "      <th>QTR</th>\n",
       "      <th>Sales</th>\n",
       "      <th>t_qtr</th>\n",
       "      <th>t_qtr2</th>\n",
       "      <th>t_qtr3</th>\n",
       "      <th>Qtr_2</th>\n",
       "      <th>Qtr_3</th>\n",
       "      <th>Qtr_4</th>\n",
       "    </tr>\n",
       "  </thead>\n",
       "  <tbody>\n",
       "    <tr>\n",
       "      <th>0</th>\n",
       "      <td>2009</td>\n",
       "      <td>1</td>\n",
       "      <td>50147.0</td>\n",
       "      <td>1</td>\n",
       "      <td>1</td>\n",
       "      <td>1</td>\n",
       "      <td>0</td>\n",
       "      <td>0</td>\n",
       "      <td>0</td>\n",
       "    </tr>\n",
       "    <tr>\n",
       "      <th>1</th>\n",
       "      <td>2009</td>\n",
       "      <td>2</td>\n",
       "      <td>49325.0</td>\n",
       "      <td>2</td>\n",
       "      <td>4</td>\n",
       "      <td>8</td>\n",
       "      <td>1</td>\n",
       "      <td>0</td>\n",
       "      <td>0</td>\n",
       "    </tr>\n",
       "    <tr>\n",
       "      <th>2</th>\n",
       "      <td>2009</td>\n",
       "      <td>3</td>\n",
       "      <td>57048.0</td>\n",
       "      <td>3</td>\n",
       "      <td>9</td>\n",
       "      <td>27</td>\n",
       "      <td>0</td>\n",
       "      <td>1</td>\n",
       "      <td>0</td>\n",
       "    </tr>\n",
       "    <tr>\n",
       "      <th>3</th>\n",
       "      <td>2009</td>\n",
       "      <td>4</td>\n",
       "      <td>76781.0</td>\n",
       "      <td>4</td>\n",
       "      <td>16</td>\n",
       "      <td>64</td>\n",
       "      <td>0</td>\n",
       "      <td>0</td>\n",
       "      <td>1</td>\n",
       "    </tr>\n",
       "    <tr>\n",
       "      <th>4</th>\n",
       "      <td>2010</td>\n",
       "      <td>1</td>\n",
       "      <td>48617.0</td>\n",
       "      <td>5</td>\n",
       "      <td>25</td>\n",
       "      <td>125</td>\n",
       "      <td>0</td>\n",
       "      <td>0</td>\n",
       "      <td>0</td>\n",
       "    </tr>\n",
       "  </tbody>\n",
       "</table>\n",
       "</div>"
      ],
      "text/plain": [
       "     YR  QTR    Sales  t_qtr  t_qtr2  t_qtr3  Qtr_2  Qtr_3  Qtr_4\n",
       "0  2009    1  50147.0      1       1       1      0      0      0\n",
       "1  2009    2  49325.0      2       4       8      1      0      0\n",
       "2  2009    3  57048.0      3       9      27      0      1      0\n",
       "3  2009    4  76781.0      4      16      64      0      0      1\n",
       "4  2010    1  48617.0      5      25     125      0      0      0"
      ]
     },
     "metadata": {},
     "output_type": "display_data"
    }
   ],
   "source": [
    "df = pd.get_dummies(df,prefix=['Qtr'], columns=['Qtr'],drop_first=True)\n",
    "display(df.head())"
   ]
  },
  {
   "cell_type": "code",
   "execution_count": 12,
   "metadata": {},
   "outputs": [
    {
     "data": {
      "text/html": [
       "<div>\n",
       "<style scoped>\n",
       "    .dataframe tbody tr th:only-of-type {\n",
       "        vertical-align: middle;\n",
       "    }\n",
       "\n",
       "    .dataframe tbody tr th {\n",
       "        vertical-align: top;\n",
       "    }\n",
       "\n",
       "    .dataframe thead th {\n",
       "        text-align: right;\n",
       "    }\n",
       "</style>\n",
       "<table border=\"1\" class=\"dataframe\">\n",
       "  <thead>\n",
       "    <tr style=\"text-align: right;\">\n",
       "      <th></th>\n",
       "      <th>Sales</th>\n",
       "      <th>t_qtr</th>\n",
       "      <th>t_qtr2</th>\n",
       "      <th>t_qtr3</th>\n",
       "      <th>Qtr_2</th>\n",
       "      <th>Qtr_3</th>\n",
       "      <th>Qtr_4</th>\n",
       "    </tr>\n",
       "  </thead>\n",
       "  <tbody>\n",
       "    <tr>\n",
       "      <th>0</th>\n",
       "      <td>50147.0</td>\n",
       "      <td>1</td>\n",
       "      <td>1</td>\n",
       "      <td>1</td>\n",
       "      <td>0</td>\n",
       "      <td>0</td>\n",
       "      <td>0</td>\n",
       "    </tr>\n",
       "    <tr>\n",
       "      <th>1</th>\n",
       "      <td>49325.0</td>\n",
       "      <td>2</td>\n",
       "      <td>4</td>\n",
       "      <td>8</td>\n",
       "      <td>1</td>\n",
       "      <td>0</td>\n",
       "      <td>0</td>\n",
       "    </tr>\n",
       "    <tr>\n",
       "      <th>2</th>\n",
       "      <td>57048.0</td>\n",
       "      <td>3</td>\n",
       "      <td>9</td>\n",
       "      <td>27</td>\n",
       "      <td>0</td>\n",
       "      <td>1</td>\n",
       "      <td>0</td>\n",
       "    </tr>\n",
       "    <tr>\n",
       "      <th>3</th>\n",
       "      <td>76781.0</td>\n",
       "      <td>4</td>\n",
       "      <td>16</td>\n",
       "      <td>64</td>\n",
       "      <td>0</td>\n",
       "      <td>0</td>\n",
       "      <td>1</td>\n",
       "    </tr>\n",
       "    <tr>\n",
       "      <th>4</th>\n",
       "      <td>48617.0</td>\n",
       "      <td>5</td>\n",
       "      <td>25</td>\n",
       "      <td>125</td>\n",
       "      <td>0</td>\n",
       "      <td>0</td>\n",
       "      <td>0</td>\n",
       "    </tr>\n",
       "  </tbody>\n",
       "</table>\n",
       "</div>"
      ],
      "text/plain": [
       "     Sales  t_qtr  t_qtr2  t_qtr3  Qtr_2  Qtr_3  Qtr_4\n",
       "0  50147.0      1       1       1      0      0      0\n",
       "1  49325.0      2       4       8      1      0      0\n",
       "2  57048.0      3       9      27      0      1      0\n",
       "3  76781.0      4      16      64      0      0      1\n",
       "4  48617.0      5      25     125      0      0      0"
      ]
     },
     "metadata": {},
     "output_type": "display_data"
    }
   ],
   "source": [
    "df = df.drop(columns=['YR','QTR'])\n",
    "display(df.head())"
   ]
  },
  {
   "cell_type": "code",
   "execution_count": 13,
   "metadata": {},
   "outputs": [
    {
     "data": {
      "text/html": [
       "<div>\n",
       "<style scoped>\n",
       "    .dataframe tbody tr th:only-of-type {\n",
       "        vertical-align: middle;\n",
       "    }\n",
       "\n",
       "    .dataframe tbody tr th {\n",
       "        vertical-align: top;\n",
       "    }\n",
       "\n",
       "    .dataframe thead th {\n",
       "        text-align: right;\n",
       "    }\n",
       "</style>\n",
       "<table border=\"1\" class=\"dataframe\">\n",
       "  <thead>\n",
       "    <tr style=\"text-align: right;\">\n",
       "      <th></th>\n",
       "      <th>Sales</th>\n",
       "      <th>t_qtr</th>\n",
       "      <th>t_qtr2</th>\n",
       "      <th>t_qtr3</th>\n",
       "      <th>Qtr_2</th>\n",
       "      <th>Qtr_3</th>\n",
       "      <th>Qtr_4</th>\n",
       "    </tr>\n",
       "  </thead>\n",
       "  <tbody>\n",
       "    <tr>\n",
       "      <th>24</th>\n",
       "      <td>NaN</td>\n",
       "      <td>25</td>\n",
       "      <td>625</td>\n",
       "      <td>15625</td>\n",
       "      <td>0</td>\n",
       "      <td>0</td>\n",
       "      <td>0</td>\n",
       "    </tr>\n",
       "    <tr>\n",
       "      <th>25</th>\n",
       "      <td>NaN</td>\n",
       "      <td>26</td>\n",
       "      <td>676</td>\n",
       "      <td>17576</td>\n",
       "      <td>1</td>\n",
       "      <td>0</td>\n",
       "      <td>0</td>\n",
       "    </tr>\n",
       "    <tr>\n",
       "      <th>26</th>\n",
       "      <td>NaN</td>\n",
       "      <td>27</td>\n",
       "      <td>729</td>\n",
       "      <td>19683</td>\n",
       "      <td>0</td>\n",
       "      <td>1</td>\n",
       "      <td>0</td>\n",
       "    </tr>\n",
       "    <tr>\n",
       "      <th>27</th>\n",
       "      <td>NaN</td>\n",
       "      <td>28</td>\n",
       "      <td>784</td>\n",
       "      <td>21952</td>\n",
       "      <td>0</td>\n",
       "      <td>0</td>\n",
       "      <td>1</td>\n",
       "    </tr>\n",
       "  </tbody>\n",
       "</table>\n",
       "</div>"
      ],
      "text/plain": [
       "    Sales  t_qtr  t_qtr2  t_qtr3  Qtr_2  Qtr_3  Qtr_4\n",
       "24    NaN     25     625   15625      0      0      0\n",
       "25    NaN     26     676   17576      1      0      0\n",
       "26    NaN     27     729   19683      0      1      0\n",
       "27    NaN     28     784   21952      0      0      1"
      ]
     },
     "metadata": {},
     "output_type": "display_data"
    }
   ],
   "source": [
    "# Partition data into training, validation, forecast\n",
    "\n",
    "training       = df.loc[0:19]\n",
    "validation     = df.loc[20:23]\n",
    "trainplusvalid = df.loc[0:23]\n",
    "forecast       = df.loc[24:27]\n",
    "display(forecast)"
   ]
  },
  {
   "cell_type": "code",
   "execution_count": 14,
   "metadata": {},
   "outputs": [],
   "source": [
    "# separate outcome variable \"y\" from input DataFrame\n",
    "\n",
    "y_train = training['Sales']\n",
    "x_train = training.drop(columns=['Sales'])\n",
    "\n",
    "y_valid = validation['Sales']\n",
    "x_valid = validation.drop(columns=['Sales'])\n",
    "\n",
    "y_trainplusvalid = trainplusvalid['Sales']\n",
    "x_trainplusvalid = trainplusvalid.drop(columns=['Sales'])\n",
    "\n",
    "x_forecast = forecast.drop(columns=['Sales'])"
   ]
  },
  {
   "cell_type": "markdown",
   "metadata": {},
   "source": [
    "### Which combination of input variables creates the best model"
   ]
  },
  {
   "cell_type": "code",
   "execution_count": 16,
   "metadata": {},
   "outputs": [],
   "source": [
    "model = LinearRegression()\n",
    "_ = model.fit(x_train, y_train)"
   ]
  },
  {
   "cell_type": "code",
   "execution_count": 17,
   "metadata": {},
   "outputs": [
    {
     "data": {
      "text/html": [
       "<div>\n",
       "<style scoped>\n",
       "    .dataframe tbody tr th:only-of-type {\n",
       "        vertical-align: middle;\n",
       "    }\n",
       "\n",
       "    .dataframe tbody tr th {\n",
       "        vertical-align: top;\n",
       "    }\n",
       "\n",
       "    .dataframe thead th {\n",
       "        text-align: right;\n",
       "    }\n",
       "</style>\n",
       "<table border=\"1\" class=\"dataframe\">\n",
       "  <thead>\n",
       "    <tr style=\"text-align: right;\">\n",
       "      <th></th>\n",
       "      <th>const</th>\n",
       "      <th>t_qtr</th>\n",
       "      <th>t_qtr2</th>\n",
       "      <th>t_qtr3</th>\n",
       "      <th>Qtr_2</th>\n",
       "      <th>Qtr_3</th>\n",
       "      <th>Qtr_4</th>\n",
       "    </tr>\n",
       "  </thead>\n",
       "  <tbody>\n",
       "    <tr>\n",
       "      <th>0</th>\n",
       "      <td>1.0</td>\n",
       "      <td>1</td>\n",
       "      <td>1</td>\n",
       "      <td>1</td>\n",
       "      <td>0</td>\n",
       "      <td>0</td>\n",
       "      <td>0</td>\n",
       "    </tr>\n",
       "    <tr>\n",
       "      <th>1</th>\n",
       "      <td>1.0</td>\n",
       "      <td>2</td>\n",
       "      <td>4</td>\n",
       "      <td>8</td>\n",
       "      <td>1</td>\n",
       "      <td>0</td>\n",
       "      <td>0</td>\n",
       "    </tr>\n",
       "    <tr>\n",
       "      <th>2</th>\n",
       "      <td>1.0</td>\n",
       "      <td>3</td>\n",
       "      <td>9</td>\n",
       "      <td>27</td>\n",
       "      <td>0</td>\n",
       "      <td>1</td>\n",
       "      <td>0</td>\n",
       "    </tr>\n",
       "    <tr>\n",
       "      <th>3</th>\n",
       "      <td>1.0</td>\n",
       "      <td>4</td>\n",
       "      <td>16</td>\n",
       "      <td>64</td>\n",
       "      <td>0</td>\n",
       "      <td>0</td>\n",
       "      <td>1</td>\n",
       "    </tr>\n",
       "    <tr>\n",
       "      <th>4</th>\n",
       "      <td>1.0</td>\n",
       "      <td>5</td>\n",
       "      <td>25</td>\n",
       "      <td>125</td>\n",
       "      <td>0</td>\n",
       "      <td>0</td>\n",
       "      <td>0</td>\n",
       "    </tr>\n",
       "  </tbody>\n",
       "</table>\n",
       "</div>"
      ],
      "text/plain": [
       "   const  t_qtr  t_qtr2  t_qtr3  Qtr_2  Qtr_3  Qtr_4\n",
       "0    1.0      1       1       1      0      0      0\n",
       "1    1.0      2       4       8      1      0      0\n",
       "2    1.0      3       9      27      0      1      0\n",
       "3    1.0      4      16      64      0      0      1\n",
       "4    1.0      5      25     125      0      0      0"
      ]
     },
     "metadata": {},
     "output_type": "display_data"
    }
   ],
   "source": [
    "X2 = sm.add_constant(x_train)\n",
    "display(X2.head())"
   ]
  },
  {
   "cell_type": "markdown",
   "metadata": {},
   "source": [
    "sklearn creates the model but doesn't show coefficients and model fit stats.\n",
    "<br>Fortunately, the Statsmodel library (sm) does produce this information.\n",
    "<br>So we refit a regression model using sm to get regression coefficients (and p-values on the regression coefficients)."
   ]
  },
  {
   "cell_type": "code",
   "execution_count": 18,
   "metadata": {},
   "outputs": [
    {
     "name": "stdout",
     "output_type": "stream",
     "text": [
      "                            OLS Regression Results                            \n",
      "==============================================================================\n",
      "Dep. Variable:                  Sales   R-squared:                       0.995\n",
      "Model:                            OLS   Adj. R-squared:                  0.993\n",
      "Method:                 Least Squares   F-statistic:                     450.4\n",
      "Date:                Sat, 09 Jul 2022   Prob (F-statistic):           2.63e-14\n",
      "Time:                        18:36:38   Log-Likelihood:                -164.43\n",
      "No. Observations:                  20   AIC:                             342.9\n",
      "Df Residuals:                      13   BIC:                             349.8\n",
      "Df Model:                           6                                         \n",
      "Covariance Type:            nonrobust                                         \n",
      "==============================================================================\n",
      "                 coef    std err          t      P>|t|      [0.025      0.975]\n",
      "------------------------------------------------------------------------------\n",
      "const       4.893e+04   1245.230     39.296      0.000    4.62e+04    5.16e+04\n",
      "t_qtr        -65.2412    512.930     -0.127      0.901   -1173.360    1042.878\n",
      "t_qtr2        -0.3505     56.033     -0.006      0.995    -121.402     120.701\n",
      "t_qtr3         2.0268      1.759      1.153      0.270      -1.772       5.826\n",
      "Qtr_2       1274.0611    711.294      1.791      0.097    -262.595    2810.718\n",
      "Qtr_3       9317.2146    725.227     12.847      0.000    7750.456    1.09e+04\n",
      "Qtr_4       2.837e+04    748.842     37.889      0.000    2.68e+04       3e+04\n",
      "==============================================================================\n",
      "Omnibus:                        2.222   Durbin-Watson:                   1.827\n",
      "Prob(Omnibus):                  0.329   Jarque-Bera (JB):                1.291\n",
      "Skew:                           0.314   Prob(JB):                        0.524\n",
      "Kurtosis:                       1.926   Cond. No.                     1.76e+04\n",
      "==============================================================================\n",
      "\n",
      "Notes:\n",
      "[1] Standard Errors assume that the covariance matrix of the errors is correctly specified.\n",
      "[2] The condition number is large, 1.76e+04. This might indicate that there are\n",
      "strong multicollinearity or other numerical problems.\n"
     ]
    }
   ],
   "source": [
    "est = sm.OLS(y_train, X2)\n",
    "est2 = est.fit()\n",
    "print(est2.summary())"
   ]
  },
  {
   "cell_type": "markdown",
   "metadata": {},
   "source": [
    "### Interpretation of Coefficients\n",
    "\n",
    "none of the coefficients on time (t_qtr, t_qtr2, t_qtr3) are\n",
    "statistically significant. But our chart of the model\n",
    "suggests that\n",
    "sales increase over time.\n",
    "So maybe we are including too many time-related coefficients\n",
    "thus model has a hard time getting good estimates\n",
    "because it is trying to separate three time coefficients.\n",
    "The line fit for time squared and time cubed\n",
    "look to be very close together.\n",
    "\n",
    "To evaluate the quality of a predictive model we need both y-actual and y-predicted.\n",
    "We already have y-actuals in the validation data.\n",
    "Now we create y-predicted from the model and the x-validation data.\n",
    "The model we trained from sklearn can produce y-predicted, so we do that.\n"
   ]
  },
  {
   "cell_type": "code",
   "execution_count": 19,
   "metadata": {},
   "outputs": [
    {
     "data": {
      "text/plain": [
       "array([ 66177.93008768,  70182.86636827,  81223.73318059, 103556.33052464])"
      ]
     },
     "metadata": {},
     "output_type": "display_data"
    }
   ],
   "source": [
    "# use the trained model to predict the y-values for the records in the validation dataset.\n",
    "\n",
    "y_pred = model.predict(x_valid)\n",
    "display(y_pred)"
   ]
  },
  {
   "cell_type": "code",
   "execution_count": 20,
   "metadata": {},
   "outputs": [
    {
     "data": {
      "text/html": [
       "<div>\n",
       "<style scoped>\n",
       "    .dataframe tbody tr th:only-of-type {\n",
       "        vertical-align: middle;\n",
       "    }\n",
       "\n",
       "    .dataframe tbody tr th {\n",
       "        vertical-align: top;\n",
       "    }\n",
       "\n",
       "    .dataframe thead th {\n",
       "        text-align: right;\n",
       "    }\n",
       "</style>\n",
       "<table border=\"1\" class=\"dataframe\">\n",
       "  <thead>\n",
       "    <tr style=\"text-align: right;\">\n",
       "      <th></th>\n",
       "      <th>Actual</th>\n",
       "      <th>Predicted</th>\n",
       "    </tr>\n",
       "  </thead>\n",
       "  <tbody>\n",
       "    <tr>\n",
       "      <th>20</th>\n",
       "      <td>60800.0</td>\n",
       "      <td>66177.930088</td>\n",
       "    </tr>\n",
       "    <tr>\n",
       "      <th>21</th>\n",
       "      <td>64900.0</td>\n",
       "      <td>70182.866368</td>\n",
       "    </tr>\n",
       "    <tr>\n",
       "      <th>22</th>\n",
       "      <td>76997.0</td>\n",
       "      <td>81223.733181</td>\n",
       "    </tr>\n",
       "    <tr>\n",
       "      <th>23</th>\n",
       "      <td>103337.0</td>\n",
       "      <td>103556.330525</td>\n",
       "    </tr>\n",
       "  </tbody>\n",
       "</table>\n",
       "</div>"
      ],
      "text/plain": [
       "      Actual      Predicted\n",
       "20   60800.0   66177.930088\n",
       "21   64900.0   70182.866368\n",
       "22   76997.0   81223.733181\n",
       "23  103337.0  103556.330525"
      ]
     },
     "execution_count": 20,
     "metadata": {},
     "output_type": "execute_result"
    }
   ],
   "source": [
    "## Create a dataframe to display the results of the actual versus the preicted values\n",
    "# so you can easily see them side-by-side.\n",
    "\n",
    "df = pd.DataFrame({'Actual': y_valid, 'Predicted': y_pred})\n",
    "df.sort_index()"
   ]
  },
  {
   "cell_type": "raw",
   "metadata": {},
   "source": [
    "To check the quality of our regression, use model quality metrics (R2, MAE, and RMSE).\n",
    "These metrics are calculated by comparing y_actual with y_predicted.\n",
    "sklearn has methods for producing these quality statistics."
   ]
  },
  {
   "cell_type": "code",
   "execution_count": 21,
   "metadata": {},
   "outputs": [
    {
     "name": "stdout",
     "output_type": "stream",
     "text": [
      "R2   = 0.932\n",
      "MAE  = 3776.7\n",
      "RMSE = 4322.7\n",
      "These results mean our regression is pretty good\n"
     ]
    }
   ],
   "source": [
    "R2 = sklearn.metrics.r2_score(y_valid, y_pred)\n",
    "MAE = sklearn.metrics.mean_absolute_error(y_valid, y_pred)\n",
    "RMSE = np.sqrt(sklearn.metrics.mean_squared_error(y_valid, y_pred))\n",
    "\n",
    "print(f\"R2   = {R2:.3f}\")\n",
    "print(f\"MAE  = {MAE:.1f}\")\n",
    "print(f\"RMSE = {RMSE:.1f}\")\n",
    "print(\"These results mean our regression is pretty good\")"
   ]
  },
  {
   "cell_type": "markdown",
   "metadata": {},
   "source": [
    "### Model 2: Keep t_qtr and t_qtr2 (drop t_qtr3)\n",
    "\n",
    "in this section, you will drop t_qrt3 and evaluate the model.\n",
    "\n",
    "We are probably overfitting with too many time input variables.\n",
    "<br>Let's drop time cubed term (t_qrt3) from the data and create a\n",
    "new model. \n",
    "<br>Then we will evaluate that model.\n",
    "<br>We must drop time cubed from both the x-train DataFrame\n",
    "and the x-validation DataFrame"
   ]
  },
  {
   "cell_type": "code",
   "execution_count": 22,
   "metadata": {},
   "outputs": [],
   "source": [
    "x_train_no_qtr3 = x_train.drop(columns=['t_qtr3'])\n",
    "x_valid_no_qtr3 = x_valid.drop(columns=['t_qtr3'])"
   ]
  },
  {
   "cell_type": "code",
   "execution_count": 24,
   "metadata": {},
   "outputs": [],
   "source": [
    "_ = model.fit(x_train_no_qtr3, y_train)"
   ]
  },
  {
   "cell_type": "code",
   "execution_count": 25,
   "metadata": {},
   "outputs": [
    {
     "name": "stdout",
     "output_type": "stream",
     "text": [
      "                            OLS Regression Results                            \n",
      "==============================================================================\n",
      "Dep. Variable:                  Sales   R-squared:                       0.995\n",
      "Model:                            OLS   Adj. R-squared:                  0.993\n",
      "Method:                 Least Squares   F-statistic:                     527.9\n",
      "Date:                Sat, 09 Jul 2022   Prob (F-statistic):           2.01e-15\n",
      "Time:                        18:37:03   Log-Likelihood:                -165.40\n",
      "No. Observations:                  20   AIC:                             342.8\n",
      "Df Residuals:                      14   BIC:                             348.8\n",
      "Df Model:                           5                                         \n",
      "Covariance Type:            nonrobust                                         \n",
      "==============================================================================\n",
      "                 coef    std err          t      P>|t|      [0.025      0.975]\n",
      "------------------------------------------------------------------------------\n",
      "const       4.992e+04    914.665     54.576      0.000     4.8e+04    5.19e+04\n",
      "t_qtr       -617.7505    184.575     -3.347      0.005   -1013.624    -221.877\n",
      "t_qtr2        63.4941      8.528      7.445      0.000      45.203      81.786\n",
      "Qtr_2       1357.3631    715.862      1.896      0.079    -178.007    2892.734\n",
      "Qtr_3       9477.7381    720.025     13.163      0.000    7933.438     1.1e+04\n",
      "Qtr_4       2.862e+04    726.712     39.379      0.000    2.71e+04    3.02e+04\n",
      "==============================================================================\n",
      "Omnibus:                        4.624   Durbin-Watson:                   1.603\n",
      "Prob(Omnibus):                  0.099   Jarque-Bera (JB):                1.496\n",
      "Skew:                           0.065   Prob(JB):                        0.473\n",
      "Kurtosis:                       1.667   Cond. No.                         868.\n",
      "==============================================================================\n",
      "\n",
      "Notes:\n",
      "[1] Standard Errors assume that the covariance matrix of the errors is correctly specified.\n"
     ]
    }
   ],
   "source": [
    "# Get the regression results that includes the coefficients and p-values\n",
    "X2 = sm.add_constant(x_train_no_qtr3)\n",
    "est = sm.OLS(y_train, X2)\n",
    "est2 = est.fit()\n",
    "print(est2.summary())"
   ]
  },
  {
   "cell_type": "markdown",
   "metadata": {},
   "source": [
    "Our dropping the t_qtr3 seems to have helped.\n",
    "<br>Now both t_wtr and t_qtr2 are significant."
   ]
  },
  {
   "cell_type": "code",
   "execution_count": 26,
   "metadata": {},
   "outputs": [
    {
     "data": {
      "text/plain": [
       "array([ 64947.24927007,  68417.10693431,  78776.96459854, 100282.62226277])"
      ]
     },
     "metadata": {},
     "output_type": "display_data"
    }
   ],
   "source": [
    "# Our model is now \"trained\".\n",
    "# so lets use it to predict the price of car using\n",
    "# the x-values from the validation data set\n",
    "y_pred = model.predict(x_valid_no_qtr3)\n",
    "display(y_pred)"
   ]
  },
  {
   "cell_type": "code",
   "execution_count": 27,
   "metadata": {},
   "outputs": [
    {
     "data": {
      "text/plain": [
       "<bound method DataFrame.sort_index of       Actual      Predicted\n",
       "20   60800.0   64947.249270\n",
       "21   64900.0   68417.106934\n",
       "22   76997.0   78776.964599\n",
       "23  103337.0  100282.622263>"
      ]
     },
     "execution_count": 27,
     "metadata": {},
     "output_type": "execute_result"
    }
   ],
   "source": [
    "## Create a dataframe to display the results of the actual versus the predicted values\n",
    "\n",
    "df = pd.DataFrame({\"Actual\":y_valid, \"Predicted\":y_pred})\n",
    "df.sort_index"
   ]
  },
  {
   "cell_type": "code",
   "execution_count": 28,
   "metadata": {},
   "outputs": [
    {
     "name": "stdout",
     "output_type": "stream",
     "text": [
      "R2   = 0.962\n",
      "MAE  = 3124.7\n",
      "RMSE = 3243.0\n",
      "These results mean our regression is pretty good\n"
     ]
    }
   ],
   "source": [
    "# To check for the quality of our regression, use model quality metrics.\n",
    "# These metrics are calculated by comparing y_actual and y_predicted\n",
    "R2 = sklearn.metrics.r2_score(y_valid, y_pred)\n",
    "MAE = sklearn.metrics.mean_absolute_error(y_valid, y_pred)\n",
    "RMSE = np.sqrt(sklearn.metrics.mean_squared_error(y_valid, y_pred))\n",
    "\n",
    "print(f\"R2   = {R2:.3f}\")\n",
    "print(f\"MAE  = {MAE:.1f}\")\n",
    "print(f\"RMSE = {RMSE:.1f}\")\n",
    "print(\"These results mean our regression is pretty good\")"
   ]
  },
  {
   "cell_type": "markdown",
   "metadata": {},
   "source": [
    "After dropping the cubic term, the model improved.\n",
    "<br>All time-based input variables are significant\n",
    "<br>and the model fit statistics improved.\n",
    "<br>So we can stop dropping terms."
   ]
  },
  {
   "cell_type": "markdown",
   "metadata": {},
   "source": [
    "### Model 3: Keep t_qtr and t_qtr3 (drop t_qtr2)\n",
    "\n",
    "Since our curvilinear influence could be coming from t_qtr3,\n",
    "<br>let's drop t_qtr2 and see what happens."
   ]
  },
  {
   "cell_type": "code",
   "execution_count": 29,
   "metadata": {},
   "outputs": [],
   "source": [
    "x_train_no_qtr2 = x_train.drop(columns=['t_qtr2'])\n",
    "x_valid_no_qtr2 = x_valid.drop(columns=['t_qtr2'])"
   ]
  },
  {
   "cell_type": "code",
   "execution_count": 30,
   "metadata": {},
   "outputs": [],
   "source": [
    "_ = model.fit(x_train_no_qtr2, y_train)"
   ]
  },
  {
   "cell_type": "code",
   "execution_count": 31,
   "metadata": {},
   "outputs": [
    {
     "name": "stdout",
     "output_type": "stream",
     "text": [
      "                            OLS Regression Results                            \n",
      "==============================================================================\n",
      "Dep. Variable:                  Sales   R-squared:                       0.995\n",
      "Model:                            OLS   Adj. R-squared:                  0.994\n",
      "Method:                 Least Squares   F-statistic:                     582.1\n",
      "Date:                Sat, 09 Jul 2022   Prob (F-statistic):           1.02e-15\n",
      "Time:                        18:37:24   Log-Likelihood:                -164.43\n",
      "No. Observations:                  20   AIC:                             340.9\n",
      "Df Residuals:                      14   BIC:                             346.8\n",
      "Df Model:                           5                                         \n",
      "Covariance Type:            nonrobust                                         \n",
      "==============================================================================\n",
      "                 coef    std err          t      P>|t|      [0.025      0.975]\n",
      "------------------------------------------------------------------------------\n",
      "const       4.894e+04    783.775     62.439      0.000    4.73e+04    5.06e+04\n",
      "t_qtr        -68.3728    107.884     -0.634      0.536    -299.760     163.015\n",
      "t_qtr3         2.0159      0.255      7.907      0.000       1.469       2.563\n",
      "Qtr_2       1274.5240    681.702      1.870      0.083    -187.582    2736.630\n",
      "Qtr_3       9318.0918    685.659     13.590      0.000    7847.500    1.08e+04\n",
      "Qtr_4       2.837e+04    692.887     40.951      0.000    2.69e+04    2.99e+04\n",
      "==============================================================================\n",
      "Omnibus:                        2.231   Durbin-Watson:                   1.827\n",
      "Prob(Omnibus):                  0.328   Jarque-Bera (JB):                1.290\n",
      "Skew:                           0.312   Prob(JB):                        0.525\n",
      "Kurtosis:                       1.923   Cond. No.                     1.48e+04\n",
      "==============================================================================\n",
      "\n",
      "Notes:\n",
      "[1] Standard Errors assume that the covariance matrix of the errors is correctly specified.\n",
      "[2] The condition number is large, 1.48e+04. This might indicate that there are\n",
      "strong multicollinearity or other numerical problems.\n"
     ]
    }
   ],
   "source": [
    "# Get the regression results that includes the coefficients and p-values\n",
    "X2 = sm.add_constant(x_train_no_qtr2)\n",
    "est = sm.OLS(y_train, X2)\n",
    "est3 = est.fit()\n",
    "print(est3.summary())"
   ]
  },
  {
   "cell_type": "code",
   "execution_count": 32,
   "metadata": {},
   "outputs": [
    {
     "data": {
      "text/plain": [
       "array([ 66171.92900227,  70174.1843609 ,  81211.5871566 , 103539.93738939])"
      ]
     },
     "metadata": {},
     "output_type": "display_data"
    }
   ],
   "source": [
    "y_pred = model.predict(x_valid_no_qtr2)\n",
    "display(y_pred)"
   ]
  },
  {
   "cell_type": "code",
   "execution_count": 33,
   "metadata": {},
   "outputs": [
    {
     "data": {
      "text/plain": [
       "<bound method DataFrame.sort_index of       Actual      Predicted\n",
       "20   60800.0   66171.929002\n",
       "21   64900.0   70174.184361\n",
       "22   76997.0   81211.587157\n",
       "23  103337.0  103539.937389>"
      ]
     },
     "execution_count": 33,
     "metadata": {},
     "output_type": "execute_result"
    }
   ],
   "source": [
    "df = pd.DataFrame({\"Actual\":y_valid, \"Predicted\":y_pred})\n",
    "df.sort_index"
   ]
  },
  {
   "cell_type": "code",
   "execution_count": 34,
   "metadata": {},
   "outputs": [
    {
     "name": "stdout",
     "output_type": "stream",
     "text": [
      "R2   = 0.932\n",
      "MAE  = 3765.9\n",
      "RMSE = 4315.0\n"
     ]
    }
   ],
   "source": [
    "R2 = sklearn.metrics.r2_score(y_valid, y_pred)\n",
    "MAE = sklearn.metrics.mean_absolute_error(y_valid, y_pred)\n",
    "RMSE = np.sqrt(sklearn.metrics.mean_squared_error(y_valid, y_pred))\n",
    "\n",
    "print(f\"R2   = {R2:.3f}\")\n",
    "print(f\"MAE  = {MAE:.1f}\")\n",
    "print(f\"RMSE = {RMSE:.1f}\")"
   ]
  },
  {
   "cell_type": "markdown",
   "metadata": {},
   "source": [
    "After dropping the cubic and squared term, the model fit stats grew worse.\n",
    "<br>So we know our model with time and time squared is a better model."
   ]
  },
  {
   "cell_type": "markdown",
   "metadata": {},
   "source": [
    "### Retrain the model using the traiplusvalid data"
   ]
  },
  {
   "cell_type": "markdown",
   "metadata": {},
   "source": [
    "Now we know which predictor variables give us the best results.\n",
    "<br>But our model is only trained with the training data.\n",
    "<br>We have omitted the validation data from training.\n",
    "<br>So we include the validation data with the training data and retrain the model.\n",
    "<br>This will change the regression coefficients a little.\n",
    "<br>But it should improve the estimates because our model benefits from the validation partition."
   ]
  },
  {
   "cell_type": "code",
   "execution_count": 35,
   "metadata": {},
   "outputs": [],
   "source": [
    "# Drop t+qtr3 from the input variables for the partitions\n",
    "x_trainplusvalid_no_qtr3 = x_trainplusvalid.drop(columns=['t_qtr3'])\n",
    "x_forecast_no_qtr3 = x_forecast.drop(columns=['t_qtr3'])"
   ]
  },
  {
   "cell_type": "code",
   "execution_count": 38,
   "metadata": {},
   "outputs": [],
   "source": [
    "_ = model.fit(x_trainplusvalid_no_qtr3,y_trainplusvalid)"
   ]
  },
  {
   "cell_type": "code",
   "execution_count": 39,
   "metadata": {},
   "outputs": [
    {
     "name": "stdout",
     "output_type": "stream",
     "text": [
      "                            OLS Regression Results                            \n",
      "==============================================================================\n",
      "Dep. Variable:                  Sales   R-squared:                       0.990\n",
      "Model:                            OLS   Adj. R-squared:                  0.988\n",
      "Method:                 Least Squares   F-statistic:                     374.6\n",
      "Date:                Sat, 09 Jul 2022   Prob (F-statistic):           1.56e-17\n",
      "Time:                        18:37:41   Log-Likelihood:                -208.41\n",
      "No. Observations:                  24   AIC:                             428.8\n",
      "Df Residuals:                      18   BIC:                             435.9\n",
      "Df Model:                           5                                         \n",
      "Covariance Type:            nonrobust                                         \n",
      "==============================================================================\n",
      "                 coef    std err          t      P>|t|      [0.025      0.975]\n",
      "------------------------------------------------------------------------------\n",
      "const       4.959e+04   1209.724     40.995      0.000    4.71e+04    5.21e+04\n",
      "t_qtr       -613.5564    203.106     -3.021      0.007   -1040.266    -186.847\n",
      "t_qtr2        61.0442      7.881      7.746      0.000      44.486      77.602\n",
      "Qtr_2       1514.5402    954.017      1.588      0.130    -489.776    3518.856\n",
      "Qtr_3       9981.4919    957.832     10.421      0.000    7969.162     1.2e+04\n",
      "Qtr_4       2.999e+04    964.026     31.107      0.000     2.8e+04     3.2e+04\n",
      "==============================================================================\n",
      "Omnibus:                        0.327   Durbin-Watson:                   1.431\n",
      "Prob(Omnibus):                  0.849   Jarque-Bera (JB):                0.333\n",
      "Skew:                           0.236   Prob(JB):                        0.847\n",
      "Kurtosis:                       2.668   Cond. No.                     1.24e+03\n",
      "==============================================================================\n",
      "\n",
      "Notes:\n",
      "[1] Standard Errors assume that the covariance matrix of the errors is correctly specified.\n",
      "[2] The condition number is large, 1.24e+03. This might indicate that there are\n",
      "strong multicollinearity or other numerical problems.\n"
     ]
    }
   ],
   "source": [
    "# Get the regression results that includes the coefficients and p-values\n",
    "X2 = sm.add_constant(x_trainplusvalid_no_qtr3)\n",
    "est = sm.OLS(y_trainplusvalid, X2)\n",
    "est2 = est.fit()\n",
    "print(est2.summary())"
   ]
  },
  {
   "cell_type": "code",
   "execution_count": 40,
   "metadata": {},
   "outputs": [
    {
     "data": {
      "text/plain": [
       "array([ 72406.25102215,  76420.48824532,  87509.22546848, 110259.96269165])"
      ]
     },
     "metadata": {},
     "output_type": "display_data"
    }
   ],
   "source": [
    "## Use the trained model to predict (forecast) future values\n",
    "\n",
    "y_pred = model.predict(x_forecast_no_qtr3)\n",
    "display(y_pred)"
   ]
  },
  {
   "cell_type": "code",
   "execution_count": 41,
   "metadata": {},
   "outputs": [
    {
     "name": "stdout",
     "output_type": "stream",
     "text": [
      "len(y_trainplusvalid) = 24\n",
      "len(y_pred) = 4\n",
      "len(y_all) = 28\n"
     ]
    },
    {
     "data": {
      "text/plain": [
       "[50147.0,\n",
       " 49325.0,\n",
       " 57048.0,\n",
       " 76781.0,\n",
       " 48617.0,\n",
       " 50898.0,\n",
       " 58517.0,\n",
       " 77691.0,\n",
       " 50862.0,\n",
       " 53028.0,\n",
       " 58849.0,\n",
       " 79660.0,\n",
       " 51640.0,\n",
       " 54119.0,\n",
       " 65681.0,\n",
       " 85175.0,\n",
       " 56405.0,\n",
       " 60031.0,\n",
       " 71486.0,\n",
       " 92183.0,\n",
       " 60800.0,\n",
       " 64900.0,\n",
       " 76997.0,\n",
       " 103337.0,\n",
       " 72406.25102214678,\n",
       " 76420.48824531547,\n",
       " 87509.22546848415,\n",
       " 110259.96269165285]"
      ]
     },
     "metadata": {},
     "output_type": "display_data"
    }
   ],
   "source": [
    "## show graph\n",
    "print(f\"len(y_trainplusvalid) = {len(y_trainplusvalid)}\")\n",
    "print(f\"len(y_pred) = {len(y_pred)}\")\n",
    "\n",
    "y_all = list(y_trainplusvalid) + list(y_pred)\n",
    "print(f\"len(y_all) = {len(y_all)}\")\n",
    "display(y_all)"
   ]
  },
  {
   "cell_type": "code",
   "execution_count": 42,
   "metadata": {},
   "outputs": [
    {
     "data": {
      "image/png": "[encoded data removed]",
      "text/plain": [
       "<Figure size 432x288 with 1 Axes>"
      ]
     },
     "metadata": {
      "image/png": {
       "height": 279,
       "width": 425
      },
      "needs_background": "light"
     },
     "output_type": "display_data"
    }
   ],
   "source": [
    "fig, ax = plt.subplots(figsize=(6,4))\n",
    "_ = ax.plot(df_orig.index, y_all, color=\"red\")        \n",
    "_ = ax.plot(df_orig.index, df_orig.Sales, color=\"blue\")\n",
    "_ = ax.set_title(f\"Quarterly Sales, red = predicted\")\n",
    "_ = ax.grid(True)\n",
    "fig.tight_layout()\n",
    "plt.show() ; # semicolon needed to remove text output on top"
   ]
  },
  {
   "cell_type": "code",
   "execution_count": null,
   "metadata": {},
   "outputs": [],
   "source": []
  }
 ],
 "metadata": {
  "kernelspec": {
   "display_name": "Python 3 (ipykernel)",
   "language": "python",
   "name": "python3"
  },
  "language_info": {
   "codemirror_mode": {
    "name": "ipython",
    "version": 3
   },
   "file_extension": ".py",
   "mimetype": "text/x-python",
   "name": "python",
   "nbconvert_exporter": "python",
   "pygments_lexer": "ipython3",
   "version": "3.9.12"
  }
 },
 "nbformat": 4,
 "nbformat_minor": 4
}

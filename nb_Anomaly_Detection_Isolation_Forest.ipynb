{
 "cells": [
  {
   "cell_type": "markdown",
   "id": "e6fb6b22",
   "metadata": {},
   "source": [
    "### Isolation Forest for Anomaly Detection\n"
   ]
  },
  {
   "cell_type": "code",
   "execution_count": 1,
   "id": "ce0e6051",
   "metadata": {},
   "outputs": [],
   "source": [
    "#importing the modules\n",
    "import sklearn\n",
    "import scipy\n",
    "import matplotlib\n",
    "import matplotlib.pyplot as plt\n",
    "import seaborn as sns\n",
    "import sklearn.metrics as metrics\n",
    "from sklearn.metrics import classification_report,accuracy_score\n",
    "from sklearn.ensemble import IsolationForest\n",
    "from sklearn.neighbors import LocalOutlierFactor\n",
    "from sklearn.svm import OneClassSVM\n",
    "from sklearn.model_selection import train_test_split\n",
    "from pylab import rcParams\n",
    "rcParams['figure.figsize'] = 8, 4\n",
    "RANDOM_SEED = 42\n",
    "LABELS = [\"Normal\", \"Fraud\"]"
   ]
  },
  {
   "cell_type": "code",
   "execution_count": 2,
   "id": "3e045a03",
   "metadata": {},
   "outputs": [
    {
     "name": "stdout",
     "output_type": "stream",
     "text": [
      "python 3.9.12\n",
      "np 1.23.1\n",
      "pd 1.4.3\n",
      "matplotlib 3.5.2\n",
      "sklearn 1.1.1\n"
     ]
    }
   ],
   "source": [
    "print('python',sys.version.split()[0])\n",
    "print('np',np.__version__)\n",
    "print('pd',pd.__version__)\n",
    "print('matplotlib',matplotlib.__version__)\n",
    "print('sklearn',sklearn.__version__)"
   ]
  },
  {
   "cell_type": "code",
   "execution_count": 3,
   "id": "d527f491",
   "metadata": {},
   "outputs": [
    {
     "name": "stdout",
     "output_type": "stream",
     "text": [
      "N_total  =  100,000\n",
      "N_normal =   99,799\n",
      "N_fraud  =      201\n",
      "normal/fraud = 496\n"
     ]
    }
   ],
   "source": [
    "# creating the target variable\n",
    "p_fraud = 1/500\n",
    "p_normal = 1 - p_fraud\n",
    "N_data = 100_000\n",
    "arr = np.random.choice([0, 1], size=N_data, p=[p_normal, p_fraud])\n",
    "N_total = len(arr)\n",
    "N_fraud = arr.sum()\n",
    "N_normal = N_total - N_fraud\n",
    "print(f\"N_total  = {N_total:8,d}\")\n",
    "print(f\"N_normal = {N_normal:8,d}\")\n",
    "print(f\"N_fraud  = {N_fraud:8,d}\")\n",
    "print(f\"normal/fraud = {N_normal//N_fraud}\")"
   ]
  },
  {
   "cell_type": "code",
   "execution_count": 4,
   "id": "035702ad",
   "metadata": {},
   "outputs": [],
   "source": [
    "df = pd.DataFrame({'target':arr})"
   ]
  },
  {
   "cell_type": "code",
   "execution_count": 5,
   "id": "ec04845a",
   "metadata": {},
   "outputs": [],
   "source": [
    "# creating the 30 features \n",
    "f1_loc = [1,2,0.5,0.7,3,4,5]\n",
    "f1_scale = [1,2,3,4,5,6,7,8]\n",
    "weights = [0.001, 0.01, 0.1, 0, 1,2,5,10,20,50, 100]\n",
    "for i in range(1,31):\n",
    "    loc = np.random.choice(f1_loc)\n",
    "    scale = np.random.choice(f1_scale)\n",
    "    size = len(arr)\n",
    "    f1 = np.random.normal(loc=loc, scale=scale, size=size)\n",
    "    wf = np.random.choice(weights)\n",
    "    wt = np.random.choice(weights)\n",
    "    df[i] = wf*f1 + wt*arr"
   ]
  },
  {
   "cell_type": "code",
   "execution_count": 6,
   "id": "04a5ff61",
   "metadata": {},
   "outputs": [
    {
     "name": "stdout",
     "output_type": "stream",
     "text": [
      "<class 'pandas.core.frame.DataFrame'>\n",
      "RangeIndex: 100000 entries, 0 to 99999\n",
      "Data columns (total 31 columns):\n",
      " #   Column  Non-Null Count   Dtype  \n",
      "---  ------  --------------   -----  \n",
      " 0   target  100000 non-null  int64  \n",
      " 1   1       100000 non-null  float64\n",
      " 2   2       100000 non-null  float64\n",
      " 3   3       100000 non-null  float64\n",
      " 4   4       100000 non-null  float64\n",
      " 5   5       100000 non-null  float64\n",
      " 6   6       100000 non-null  float64\n",
      " 7   7       100000 non-null  float64\n",
      " 8   8       100000 non-null  float64\n",
      " 9   9       100000 non-null  float64\n",
      " 10  10      100000 non-null  float64\n",
      " 11  11      100000 non-null  float64\n",
      " 12  12      100000 non-null  float64\n",
      " 13  13      100000 non-null  float64\n",
      " 14  14      100000 non-null  float64\n",
      " 15  15      100000 non-null  float64\n",
      " 16  16      100000 non-null  float64\n",
      " 17  17      100000 non-null  float64\n",
      " 18  18      100000 non-null  float64\n",
      " 19  19      100000 non-null  float64\n",
      " 20  20      100000 non-null  float64\n",
      " 21  21      100000 non-null  float64\n",
      " 22  22      100000 non-null  float64\n",
      " 23  23      100000 non-null  float64\n",
      " 24  24      100000 non-null  float64\n",
      " 25  25      100000 non-null  float64\n",
      " 26  26      100000 non-null  float64\n",
      " 27  27      100000 non-null  float64\n",
      " 28  28      100000 non-null  float64\n",
      " 29  29      100000 non-null  float64\n",
      " 30  30      100000 non-null  float64\n",
      "dtypes: float64(30), int64(1)\n",
      "memory usage: 23.7 MB\n"
     ]
    }
   ],
   "source": [
    "# having a look at the data frame\n",
    "df.info()"
   ]
  },
  {
   "cell_type": "code",
   "execution_count": 7,
   "id": "30487df2",
   "metadata": {},
   "outputs": [
    {
     "data": {
      "text/plain": [
       "False"
      ]
     },
     "execution_count": 7,
     "metadata": {},
     "output_type": "execute_result"
    }
   ],
   "source": [
    "# checking if there are any null values\n",
    "df.isnull().values.any()"
   ]
  },
  {
   "cell_type": "code",
   "execution_count": 8,
   "id": "a9823259",
   "metadata": {
    "scrolled": true
   },
   "outputs": [
    {
     "data": {
      "image/png": "[encoded data removed]",
      "text/plain": [
       "<Figure size 432x288 with 1 Axes>"
      ]
     },
     "metadata": {
      "needs_background": "light"
     },
     "output_type": "display_data"
    }
   ],
   "source": [
    "# showing number of normal and fraud transactions \n",
    "count_classes = pd.value_counts(df['target'], sort = True)\n",
    "count_classes.plot(kind = 'bar', rot=0)\n",
    "plt.title(\"Transaction Class Distribution\")\n",
    "plt.xticks(range(2), LABELS)\n",
    "plt.xlabel(\"Class\")\n",
    "plt.ylabel(\"Frequency\")\n",
    "plt.yscale(\"log\")\n",
    "plt.show()"
   ]
  },
  {
   "cell_type": "code",
   "execution_count": 9,
   "id": "bf6a8f4d",
   "metadata": {},
   "outputs": [],
   "source": [
    "## Get the Fraud and the normal datasets\n",
    "fraud = df[df['target']==1]\n",
    "normal = df[df['target']==0]"
   ]
  },
  {
   "cell_type": "code",
   "execution_count": 10,
   "id": "d092fcb4",
   "metadata": {},
   "outputs": [
    {
     "name": "stdout",
     "output_type": "stream",
     "text": [
      "(201, 31) (99799, 31)\n"
     ]
    }
   ],
   "source": [
    "print(fraud.shape,normal.shape)"
   ]
  },
  {
   "cell_type": "code",
   "execution_count": 11,
   "id": "fa652f5d",
   "metadata": {},
   "outputs": [
    {
     "name": "stdout",
     "output_type": "stream",
     "text": [
      "(100000, 30)\n",
      "(100000,)\n"
     ]
    }
   ],
   "source": [
    "# Create independent and Dependent Features\n",
    "columns = df.columns.tolist()\n",
    "\n",
    "# Filter the columns to remove data we do not want \n",
    "columns = [c for c in columns if c not in [\"target\"]]\n",
    "\n",
    "# Store the variable we are predicting \n",
    "target = \"target\"\n",
    "\n",
    "# Define a random state \n",
    "state = np.random.RandomState(42)\n",
    "X = df[columns]\n",
    "Y = df[target]\n",
    "X_outliers = state.uniform(low=0, high=1, size=(X.shape[0], X.shape[1]))\n",
    "\n",
    "# Print the shapes of X & Y\n",
    "print(X.shape)\n",
    "print(Y.shape)"
   ]
  },
  {
   "cell_type": "code",
   "execution_count": 12,
   "id": "bb5b740b",
   "metadata": {},
   "outputs": [],
   "source": [
    "# split the data into train and test\n",
    "X_train, X_test, y_train, y_test = train_test_split(X, Y, \n",
    "                                                    train_size = 0.7, \n",
    "                                                    test_size = 0.3, \n",
    "                                                    random_state = 100, \n",
    "                                                    stratify = Y)"
   ]
  },
  {
   "cell_type": "code",
   "execution_count": 13,
   "id": "268c8518",
   "metadata": {},
   "outputs": [
    {
     "name": "stdout",
     "output_type": "stream",
     "text": [
      "X_train:\n"
     ]
    },
    {
     "data": {
      "text/html": [
       "<div>\n",
       "<style scoped>\n",
       "    .dataframe tbody tr th:only-of-type {\n",
       "        vertical-align: middle;\n",
       "    }\n",
       "\n",
       "    .dataframe tbody tr th {\n",
       "        vertical-align: top;\n",
       "    }\n",
       "\n",
       "    .dataframe thead th {\n",
       "        text-align: right;\n",
       "    }\n",
       "</style>\n",
       "<table border=\"1\" class=\"dataframe\">\n",
       "  <thead>\n",
       "    <tr style=\"text-align: right;\">\n",
       "      <th></th>\n",
       "      <th>1</th>\n",
       "      <th>2</th>\n",
       "      <th>3</th>\n",
       "      <th>4</th>\n",
       "      <th>5</th>\n",
       "      <th>6</th>\n",
       "      <th>7</th>\n",
       "      <th>8</th>\n",
       "      <th>9</th>\n",
       "      <th>10</th>\n",
       "      <th>...</th>\n",
       "      <th>21</th>\n",
       "      <th>22</th>\n",
       "      <th>23</th>\n",
       "      <th>24</th>\n",
       "      <th>25</th>\n",
       "      <th>26</th>\n",
       "      <th>27</th>\n",
       "      <th>28</th>\n",
       "      <th>29</th>\n",
       "      <th>30</th>\n",
       "    </tr>\n",
       "  </thead>\n",
       "  <tbody>\n",
       "    <tr>\n",
       "      <th>70508</th>\n",
       "      <td>20.703180</td>\n",
       "      <td>1013.719817</td>\n",
       "      <td>997.028229</td>\n",
       "      <td>0.126064</td>\n",
       "      <td>0.015669</td>\n",
       "      <td>0.0</td>\n",
       "      <td>0.0</td>\n",
       "      <td>-19.061482</td>\n",
       "      <td>354.640468</td>\n",
       "      <td>0.0</td>\n",
       "      <td>...</td>\n",
       "      <td>-0.002801</td>\n",
       "      <td>24.917079</td>\n",
       "      <td>1.119526</td>\n",
       "      <td>204.121690</td>\n",
       "      <td>564.864263</td>\n",
       "      <td>18.974857</td>\n",
       "      <td>0.514683</td>\n",
       "      <td>46.069369</td>\n",
       "      <td>9.016765</td>\n",
       "      <td>0.0</td>\n",
       "    </tr>\n",
       "    <tr>\n",
       "      <th>52883</th>\n",
       "      <td>11.341715</td>\n",
       "      <td>-19.414503</td>\n",
       "      <td>-193.960743</td>\n",
       "      <td>-0.252151</td>\n",
       "      <td>0.043763</td>\n",
       "      <td>0.0</td>\n",
       "      <td>0.0</td>\n",
       "      <td>94.226570</td>\n",
       "      <td>-264.851046</td>\n",
       "      <td>0.0</td>\n",
       "      <td>...</td>\n",
       "      <td>0.003419</td>\n",
       "      <td>11.967523</td>\n",
       "      <td>2.870170</td>\n",
       "      <td>454.517591</td>\n",
       "      <td>4.720766</td>\n",
       "      <td>33.438681</td>\n",
       "      <td>1.168888</td>\n",
       "      <td>428.736113</td>\n",
       "      <td>31.813001</td>\n",
       "      <td>0.0</td>\n",
       "    </tr>\n",
       "    <tr>\n",
       "      <th>18497</th>\n",
       "      <td>1.059102</td>\n",
       "      <td>505.061866</td>\n",
       "      <td>469.021723</td>\n",
       "      <td>-0.230546</td>\n",
       "      <td>0.045464</td>\n",
       "      <td>0.0</td>\n",
       "      <td>0.0</td>\n",
       "      <td>-187.495420</td>\n",
       "      <td>23.892635</td>\n",
       "      <td>0.0</td>\n",
       "      <td>...</td>\n",
       "      <td>-0.001020</td>\n",
       "      <td>10.697972</td>\n",
       "      <td>2.874878</td>\n",
       "      <td>199.997724</td>\n",
       "      <td>-146.642733</td>\n",
       "      <td>-18.984237</td>\n",
       "      <td>1.105097</td>\n",
       "      <td>139.429794</td>\n",
       "      <td>22.276668</td>\n",
       "      <td>0.0</td>\n",
       "    </tr>\n",
       "    <tr>\n",
       "      <th>29311</th>\n",
       "      <td>8.482728</td>\n",
       "      <td>-344.067251</td>\n",
       "      <td>679.760133</td>\n",
       "      <td>-0.256265</td>\n",
       "      <td>0.037688</td>\n",
       "      <td>0.0</td>\n",
       "      <td>0.0</td>\n",
       "      <td>559.605853</td>\n",
       "      <td>-38.209076</td>\n",
       "      <td>0.0</td>\n",
       "      <td>...</td>\n",
       "      <td>-0.001461</td>\n",
       "      <td>13.179990</td>\n",
       "      <td>5.330732</td>\n",
       "      <td>244.120781</td>\n",
       "      <td>331.681127</td>\n",
       "      <td>21.104787</td>\n",
       "      <td>-0.438029</td>\n",
       "      <td>-192.041537</td>\n",
       "      <td>29.642220</td>\n",
       "      <td>0.0</td>\n",
       "    </tr>\n",
       "    <tr>\n",
       "      <th>87590</th>\n",
       "      <td>9.014397</td>\n",
       "      <td>-285.873207</td>\n",
       "      <td>879.286163</td>\n",
       "      <td>1.937459</td>\n",
       "      <td>0.016136</td>\n",
       "      <td>0.0</td>\n",
       "      <td>0.0</td>\n",
       "      <td>304.171129</td>\n",
       "      <td>-139.188340</td>\n",
       "      <td>0.0</td>\n",
       "      <td>...</td>\n",
       "      <td>-0.000261</td>\n",
       "      <td>22.433177</td>\n",
       "      <td>4.987495</td>\n",
       "      <td>487.571359</td>\n",
       "      <td>-277.671949</td>\n",
       "      <td>11.054675</td>\n",
       "      <td>-0.535784</td>\n",
       "      <td>233.741444</td>\n",
       "      <td>30.344684</td>\n",
       "      <td>0.0</td>\n",
       "    </tr>\n",
       "    <tr>\n",
       "      <th>...</th>\n",
       "      <td>...</td>\n",
       "      <td>...</td>\n",
       "      <td>...</td>\n",
       "      <td>...</td>\n",
       "      <td>...</td>\n",
       "      <td>...</td>\n",
       "      <td>...</td>\n",
       "      <td>...</td>\n",
       "      <td>...</td>\n",
       "      <td>...</td>\n",
       "      <td>...</td>\n",
       "      <td>...</td>\n",
       "      <td>...</td>\n",
       "      <td>...</td>\n",
       "      <td>...</td>\n",
       "      <td>...</td>\n",
       "      <td>...</td>\n",
       "      <td>...</td>\n",
       "      <td>...</td>\n",
       "      <td>...</td>\n",
       "      <td>...</td>\n",
       "    </tr>\n",
       "    <tr>\n",
       "      <th>1740</th>\n",
       "      <td>-5.810067</td>\n",
       "      <td>-339.169463</td>\n",
       "      <td>-172.609260</td>\n",
       "      <td>-0.745642</td>\n",
       "      <td>0.036827</td>\n",
       "      <td>0.0</td>\n",
       "      <td>0.0</td>\n",
       "      <td>178.000414</td>\n",
       "      <td>669.995955</td>\n",
       "      <td>0.0</td>\n",
       "      <td>...</td>\n",
       "      <td>0.001227</td>\n",
       "      <td>14.133213</td>\n",
       "      <td>4.118940</td>\n",
       "      <td>353.171547</td>\n",
       "      <td>-256.190250</td>\n",
       "      <td>-13.580287</td>\n",
       "      <td>-0.446062</td>\n",
       "      <td>51.664062</td>\n",
       "      <td>34.594581</td>\n",
       "      <td>0.0</td>\n",
       "    </tr>\n",
       "    <tr>\n",
       "      <th>95148</th>\n",
       "      <td>9.149585</td>\n",
       "      <td>333.330340</td>\n",
       "      <td>227.167876</td>\n",
       "      <td>-0.216626</td>\n",
       "      <td>0.016321</td>\n",
       "      <td>0.0</td>\n",
       "      <td>0.0</td>\n",
       "      <td>315.404359</td>\n",
       "      <td>474.852076</td>\n",
       "      <td>0.0</td>\n",
       "      <td>...</td>\n",
       "      <td>0.004695</td>\n",
       "      <td>30.091093</td>\n",
       "      <td>4.136902</td>\n",
       "      <td>372.795687</td>\n",
       "      <td>239.947493</td>\n",
       "      <td>9.020384</td>\n",
       "      <td>0.146801</td>\n",
       "      <td>132.819505</td>\n",
       "      <td>18.980434</td>\n",
       "      <td>0.0</td>\n",
       "    </tr>\n",
       "    <tr>\n",
       "      <th>59388</th>\n",
       "      <td>11.034802</td>\n",
       "      <td>439.382823</td>\n",
       "      <td>724.017367</td>\n",
       "      <td>-0.254801</td>\n",
       "      <td>0.028052</td>\n",
       "      <td>0.0</td>\n",
       "      <td>0.0</td>\n",
       "      <td>-21.174373</td>\n",
       "      <td>-103.701235</td>\n",
       "      <td>0.0</td>\n",
       "      <td>...</td>\n",
       "      <td>-0.001257</td>\n",
       "      <td>4.645874</td>\n",
       "      <td>3.322881</td>\n",
       "      <td>218.613341</td>\n",
       "      <td>430.428112</td>\n",
       "      <td>-6.355519</td>\n",
       "      <td>-1.868156</td>\n",
       "      <td>77.840659</td>\n",
       "      <td>25.194314</td>\n",
       "      <td>0.0</td>\n",
       "    </tr>\n",
       "    <tr>\n",
       "      <th>99630</th>\n",
       "      <td>-2.334197</td>\n",
       "      <td>432.179185</td>\n",
       "      <td>-525.784382</td>\n",
       "      <td>0.138312</td>\n",
       "      <td>0.045090</td>\n",
       "      <td>0.0</td>\n",
       "      <td>0.0</td>\n",
       "      <td>539.937956</td>\n",
       "      <td>-357.386808</td>\n",
       "      <td>0.0</td>\n",
       "      <td>...</td>\n",
       "      <td>0.002866</td>\n",
       "      <td>11.592145</td>\n",
       "      <td>3.557875</td>\n",
       "      <td>251.216337</td>\n",
       "      <td>-114.187731</td>\n",
       "      <td>-61.278098</td>\n",
       "      <td>0.342106</td>\n",
       "      <td>500.032336</td>\n",
       "      <td>22.062493</td>\n",
       "      <td>0.0</td>\n",
       "    </tr>\n",
       "    <tr>\n",
       "      <th>66528</th>\n",
       "      <td>-13.551094</td>\n",
       "      <td>93.292858</td>\n",
       "      <td>26.675580</td>\n",
       "      <td>-0.172948</td>\n",
       "      <td>0.023048</td>\n",
       "      <td>0.0</td>\n",
       "      <td>0.0</td>\n",
       "      <td>57.090324</td>\n",
       "      <td>333.404099</td>\n",
       "      <td>0.0</td>\n",
       "      <td>...</td>\n",
       "      <td>0.008860</td>\n",
       "      <td>20.695086</td>\n",
       "      <td>0.382155</td>\n",
       "      <td>300.723193</td>\n",
       "      <td>-383.029638</td>\n",
       "      <td>32.132802</td>\n",
       "      <td>0.696931</td>\n",
       "      <td>-84.572700</td>\n",
       "      <td>12.389608</td>\n",
       "      <td>0.0</td>\n",
       "    </tr>\n",
       "  </tbody>\n",
       "</table>\n",
       "<p>70000 rows × 30 columns</p>\n",
       "</div>"
      ],
      "text/plain": [
       "              1            2           3         4         5    6    7           8           9    10  ...        21         22        23          24          25         26        27          28         29   30\n",
       "70508  20.703180  1013.719817  997.028229  0.126064  0.015669  0.0  0.0  -19.061482  354.640468  0.0  ... -0.002801  24.917079  1.119526  204.121690  564.864263  18.974857  0.514683   46.069369   9.016765  0.0\n",
       "52883  11.341715   -19.414503 -193.960743 -0.252151  0.043763  0.0  0.0   94.226570 -264.851046  0.0  ...  0.003419  11.967523  2.870170  454.517591    4.720766  33.438681  1.168888  428.736113  31.813001  0.0\n",
       "18497   1.059102   505.061866  469.021723 -0.230546  0.045464  0.0  0.0 -187.495420   23.892635  0.0  ... -0.001020  10.697972  2.874878  199.997724 -146.642733 -18.984237  1.105097  139.429794  22.276668  0.0\n",
       "29311   8.482728  -344.067251  679.760133 -0.256265  0.037688  0.0  0.0  559.605853  -38.209076  0.0  ... -0.001461  13.179990  5.330732  244.120781  331.681127  21.104787 -0.438029 -192.041537  29.642220  0.0\n",
       "87590   9.014397  -285.873207  879.286163  1.937459  0.016136  0.0  0.0  304.171129 -139.188340  0.0  ... -0.000261  22.433177  4.987495  487.571359 -277.671949  11.054675 -0.535784  233.741444  30.344684  0.0\n",
       "...          ...          ...         ...       ...       ...  ...  ...         ...         ...  ...  ...       ...        ...       ...         ...         ...        ...       ...         ...        ...  ...\n",
       "1740   -5.810067  -339.169463 -172.609260 -0.745642  0.036827  0.0  0.0  178.000414  669.995955  0.0  ...  0.001227  14.133213  4.118940  353.171547 -256.190250 -13.580287 -0.446062   51.664062  34.594581  0.0\n",
       "95148   9.149585   333.330340  227.167876 -0.216626  0.016321  0.0  0.0  315.404359  474.852076  0.0  ...  0.004695  30.091093  4.136902  372.795687  239.947493   9.020384  0.146801  132.819505  18.980434  0.0\n",
       "59388  11.034802   439.382823  724.017367 -0.254801  0.028052  0.0  0.0  -21.174373 -103.701235  0.0  ... -0.001257   4.645874  3.322881  218.613341  430.428112  -6.355519 -1.868156   77.840659  25.194314  0.0\n",
       "99630  -2.334197   432.179185 -525.784382  0.138312  0.045090  0.0  0.0  539.937956 -357.386808  0.0  ...  0.002866  11.592145  3.557875  251.216337 -114.187731 -61.278098  0.342106  500.032336  22.062493  0.0\n",
       "66528 -13.551094    93.292858   26.675580 -0.172948  0.023048  0.0  0.0   57.090324  333.404099  0.0  ...  0.008860  20.695086  0.382155  300.723193 -383.029638  32.132802  0.696931  -84.572700  12.389608  0.0\n",
       "\n",
       "[70000 rows x 30 columns]"
      ]
     },
     "metadata": {},
     "output_type": "display_data"
    },
    {
     "name": "stdout",
     "output_type": "stream",
     "text": [
      "\n",
      " --------------------------------------------------\n",
      "y_train:\n"
     ]
    },
    {
     "data": {
      "text/plain": [
       "70508    0\n",
       "52883    0\n",
       "18497    0\n",
       "29311    0\n",
       "87590    0\n",
       "        ..\n",
       "1740     0\n",
       "95148    0\n",
       "59388    0\n",
       "99630    0\n",
       "66528    0\n",
       "Name: target, Length: 70000, dtype: int64"
      ]
     },
     "metadata": {},
     "output_type": "display_data"
    }
   ],
   "source": [
    "# Take a look at the train dataset\n",
    "print(\"X_train:\")\n",
    "display(X_train)\n",
    "print(\"\\n\",\"-\"*50)\n",
    "print(\"y_train:\")\n",
    "display(y_train)"
   ]
  },
  {
   "cell_type": "code",
   "execution_count": 14,
   "id": "72f4d831",
   "metadata": {},
   "outputs": [
    {
     "name": "stdout",
     "output_type": "stream",
     "text": [
      "(70000, 30)\n",
      "(70000,)\n",
      "(30000, 30)\n",
      "(30000,)\n"
     ]
    }
   ],
   "source": [
    "print(X_train.shape)\n",
    "print(y_train.shape)\n",
    "print(X_test.shape)\n",
    "print(y_test.shape)"
   ]
  },
  {
   "cell_type": "code",
   "execution_count": 15,
   "id": "4b1c632c",
   "metadata": {},
   "outputs": [
    {
     "name": "stdout",
     "output_type": "stream",
     "text": [
      "proportion of fraud in train data:  0.0020\n",
      "proportion of fraud in test  data:  0.0020\n"
     ]
    }
   ],
   "source": [
    "# training:\n",
    "ss = y_train.value_counts()\n",
    "print(f\"proportion of fraud in train data: {ss[1]/len(y_train):7.4f}\")\n",
    "\n",
    "#tresting:\n",
    "ss = y_test.value_counts()\n",
    "print(f\"proportion of fraud in test  data: {ss[1]/len(y_test):7.4f}\")"
   ]
  },
  {
   "cell_type": "code",
   "execution_count": 16,
   "id": "f2e95534",
   "metadata": {},
   "outputs": [],
   "source": [
    "#Determine the number of fraud and valid transactions in the dataset\n",
    "\n",
    "Fraud = df[df['target']==1]\n",
    "\n",
    "Valid = df[df['target']==0]\n",
    "\n",
    "outlier_fraction = len(Fraud)/float(len(Valid))"
   ]
  },
  {
   "cell_type": "code",
   "execution_count": 17,
   "id": "fa1c43a5",
   "metadata": {},
   "outputs": [],
   "source": [
    "##Define the outlier detection methods\n",
    "\n",
    "model = IsolationForest(n_estimators=100, \n",
    "                        max_samples=len(X_train),\n",
    "                        contamination=outlier_fraction,\n",
    "                        random_state=state, \n",
    "                        verbose=0)"
   ]
  },
  {
   "cell_type": "code",
   "execution_count": 18,
   "id": "f7f90a3e",
   "metadata": {},
   "outputs": [],
   "source": [
    "# train the model and do prediction\n",
    "model.fit(X_train,y_train)\n",
    "y_pred = model.predict(X_test)"
   ]
  },
  {
   "cell_type": "code",
   "execution_count": 19,
   "id": "5fcaec43",
   "metadata": {},
   "outputs": [
    {
     "name": "stdout",
     "output_type": "stream",
     "text": [
      "Accuracy Score :\n",
      "1.0\n",
      "Classification Report :\n",
      "              precision    recall  f1-score   support\n",
      "\n",
      "           0       1.00      1.00      1.00     29940\n",
      "           1       1.00      1.00      1.00        60\n",
      "\n",
      "    accuracy                           1.00     30000\n",
      "   macro avg       1.00      1.00      1.00     30000\n",
      "weighted avg       1.00      1.00      1.00     30000\n",
      "\n"
     ]
    }
   ],
   "source": [
    "# calculate quality metrics of the model\n",
    "# accuracyReshape the prediction values to 0 for Valid transactions , 1 for Fraud transactions\n",
    "y_pred[y_pred == 1] = 0\n",
    "y_pred[y_pred == -1] = 1\n",
    "print(\"Accuracy Score :\")\n",
    "print(accuracy_score(y_test,y_pred))\n",
    "print(\"Classification Report :\")\n",
    "print(classification_report(y_test,y_pred))"
   ]
  },
  {
   "cell_type": "code",
   "execution_count": 20,
   "id": "255b1a3a",
   "metadata": {},
   "outputs": [
    {
     "name": "stdout",
     "output_type": "stream",
     "text": [
      "Confusion matrix:\n",
      "[[29940     0]\n",
      " [    0    60]]\n"
     ]
    }
   ],
   "source": [
    "#Calculate the confusion matrix itself\n",
    "confusion = metrics.confusion_matrix(y_test, y_pred)\n",
    "print(f\"Confusion matrix:\\n{confusion}\")"
   ]
  },
  {
   "cell_type": "code",
   "execution_count": null,
   "id": "318971fb",
   "metadata": {},
   "outputs": [],
   "source": []
  }
 ],
 "metadata": {
  "kernelspec": {
   "display_name": "Python 3 (ipykernel)",
   "language": "python",
   "name": "python3"
  },
  "language_info": {
   "codemirror_mode": {
    "name": "ipython",
    "version": 3
   },
   "file_extension": ".py",
   "mimetype": "text/x-python",
   "name": "python",
   "nbconvert_exporter": "python",
   "pygments_lexer": "ipython3",
   "version": "3.9.12"
  }
 },
 "nbformat": 4,
 "nbformat_minor": 5
}

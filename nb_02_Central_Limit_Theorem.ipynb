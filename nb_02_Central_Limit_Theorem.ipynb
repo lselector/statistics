{
 "cells": [
  {
   "cell_type": "markdown",
   "metadata": {},
   "source": [
    "## Central Limit Theorem (CLT)\n",
    "\n",
    "We have all heard about Normal (Gaussian) distribution:\n",
    "\n",
    "<br> $ \\normalsize P(x) = \\frac{1}{ \\sigma\\sqrt{2 \\pi}} e^{-x^2/2\\sigma^2} dx$\n",
    "<br>\n",
    "\n",
    "This distribution is very foundational in statistics.\n",
    "And it comes from CLT.\n",
    "\n",
    "Classical CLT mathematically proves that \n",
    "if we calculate group averages in many groups,\n",
    "then the distribution of those averages converges to Normal distribution\n",
    "as long as we have large number of points in each group (30..100 or more)\n",
    "and large number of groups (30-100 or more).\n",
    "\n",
    "Specifically, suppose we have our data points sampled from a distribution \n",
    "with finate average and finate variance.\n",
    "\n",
    "We subdivide this data into Ng groups, each containing Ns samples:\n",
    "```\n",
    "[...]    [...]   [...]   [...]   [...]   [...]   [...]   [...]   [...] \n",
    "```\n",
    "For each group we calculate average value of its Ns samples.\n",
    "Thus we have Ng averages - and we plot them as a histogram.\n",
    "\n",
    "If Ng and Ns are big enough, the histogram will converge \n",
    "to a normal distribution. This holds true regardless\n",
    "of the shape of the original distribution of data.\n",
    "\n",
    "<br> https://en.wikipedia.org/wiki/Central_limit_theorem\n",
    "<br> \n"
   ]
  },
  {
   "cell_type": "code",
   "execution_count": 1,
   "metadata": {},
   "outputs": [],
   "source": [
    "import sys,os\n",
    "import numpy as np\n",
    "import matplotlib.pyplot as plt"
   ]
  },
  {
   "cell_type": "code",
   "execution_count": 2,
   "metadata": {},
   "outputs": [
    {
     "name": "stdout",
     "output_type": "stream",
     "text": [
      "1000\n",
      "-1 :  535\n",
      "+1 :  465\n",
      "mean: -0.0700\n"
     ]
    },
    {
     "data": {
      "image/png": "[encoded data removed]",
      "text/plain": [
       "<Figure size 432x288 with 1 Axes>"
      ]
     },
     "metadata": {
      "needs_background": "light"
     },
     "output_type": "display_data"
    }
   ],
   "source": [
    "# how we generate coin toss\n",
    "Nsamples=1000\n",
    "aa = np.random.choice([-1,1],size=Nsamples,replace=True,p=[0.5,0.5])\n",
    "mylist = list(aa)\n",
    "print(len(mylist))\n",
    "cnt1 = 0\n",
    "cnt2 = 0\n",
    "for ii in mylist:\n",
    "    if ii < 0:\n",
    "        cnt1 += 1\n",
    "    else:\n",
    "        cnt2 += 1\n",
    "print(f\"-1 : {cnt1:4d}\")\n",
    "print(f\"+1 : {cnt2:4d}\")\n",
    "mymean = np.mean(aa)\n",
    "print(f\"mean: {mymean:.4f}\")\n",
    "list(mylist[:20])\n",
    "plt.hist(mylist,bins=40,color=\"green\")\n",
    "plt.show();"
   ]
  },
  {
   "cell_type": "code",
   "execution_count": 3,
   "metadata": {},
   "outputs": [],
   "source": [
    "# coin toss (-1,1) - calculating CLT effect\n",
    "Ngroups=10000\n",
    "Nsamples=10000\n",
    "list_of_means = []\n",
    "for gg in range(Ngroups):\n",
    "    samples = np.random.choice([-1,1],size=Nsamples,replace=True,p=[0.5,0.5])\n",
    "    list_of_means.append(np.average(samples))"
   ]
  },
  {
   "cell_type": "code",
   "execution_count": 4,
   "metadata": {},
   "outputs": [
    {
     "name": "stdout",
     "output_type": "stream",
     "text": [
      "[0.0074, -0.0216, 0.0078, -0.0082, -0.0058, 0.0014, 0.0098, -0.0274, -0.0172, -0.0174, -0.0078, -0.0064, -0.008, 0.001, -0.0018, 0.0018, -0.015, 0.0004, 0.008, 0.0158, 0.0028, -0.0054, 0.01, -0.0036, -0.016, 0.0032, 0.0112, -0.015, 0.0052, -0.0048, -0.0018, -0.0036, -0.0046, -0.0148, -0.003, -0.0154, -0.0036, -0.0024, -0.006, 0.0028, 0.0324, 0.0146, -0.0026, -0.0122, -0.0004, 0.0082, -0.0024, 0.001, -0.0068, 0.0072, -0.0008, -0.0084, -0.0002, -0.0096, 0.0236, -0.001, 0.009, -0.016, -0.0136, 0.0024, -0.0058, 0.0024, 0.0048, 0.007, -0.0034, -0.0014, -0.0032, 0.0066, 0.003, 0.0012, -0.0078, 0.0034, -0.0092, 0.0068, -0.0058, -0.0038, -0.0092, -0.0076, 0.0056, 0.0066, 0.0018, -0.0112, -0.003, 0.0, -0.0004, -0.0022, 0.0024, 0.0084, -0.0004, -0.0078, -0.0092, 0.0182, 0.016, 0.0006, -0.0114, -0.0002, 0.0108, -0.0026, -0.0098, -0.0008]\n"
     ]
    }
   ],
   "source": [
    "print(list_of_means[:100])"
   ]
  },
  {
   "cell_type": "code",
   "execution_count": 5,
   "metadata": {},
   "outputs": [
    {
     "data": {
      "image/png": "[encoded data removed]",
      "text/plain": [
       "<Figure size 432x288 with 1 Axes>"
      ]
     },
     "metadata": {
      "needs_background": "light"
     },
     "output_type": "display_data"
    }
   ],
   "source": [
    "plt.hist(list_of_means,bins=40,color=\"green\")\n",
    "plt.show();"
   ]
  },
  {
   "cell_type": "code",
   "execution_count": 6,
   "metadata": {},
   "outputs": [
    {
     "data": {
      "image/png": "[encoded data removed]",
      "text/plain": [
       "<Figure size 432x288 with 1 Axes>"
      ]
     },
     "metadata": {
      "needs_background": "light"
     },
     "output_type": "display_data"
    }
   ],
   "source": [
    "# triangular distribution - here is how the data looks like\n",
    "aa = np.random.triangular(-5, 0, 8, 100000)\n",
    "plt.hist(aa,bins=40,color=\"green\")\n",
    "plt.show();"
   ]
  },
  {
   "cell_type": "code",
   "execution_count": 7,
   "metadata": {},
   "outputs": [
    {
     "data": {
      "image/png": "[encoded data removed]",
      "text/plain": [
       "<Figure size 432x288 with 1 Axes>"
      ]
     },
     "metadata": {
      "needs_background": "light"
     },
     "output_type": "display_data"
    }
   ],
   "source": [
    "# triangular distribution - calculating CLT effect\n",
    "Ngroups=10000\n",
    "Nsamples=10000\n",
    "list_of_means = []\n",
    "for gg in range(Ngroups):\n",
    "    samples = np.random.triangular(-5, 0, 8, Nsamples)\n",
    "    list_of_means += [np.average(samples)]\n",
    "\n",
    "plt.hist(list_of_means,bins=40,color=\"green\")\n",
    "plt.show();"
   ]
  },
  {
   "cell_type": "markdown",
   "metadata": {},
   "source": [
    "## e-number \n",
    "\n",
    "#### the target value mnemonic is: \n",
    "\n",
    "#### 2.7-1828-1828-45-90-45"
   ]
  },
  {
   "cell_type": "code",
   "execution_count": 8,
   "metadata": {},
   "outputs": [
    {
     "name": "stdout",
     "output_type": "stream",
     "text": [
      "0, 2.00000000000000000000\n",
      "1, 2.59374246010000231166\n",
      "2, 2.70481382942152848159\n",
      "3, 2.71692393223559358617\n",
      "4, 2.71814592682492550679\n",
      "5, 2.71826823719229748733\n",
      "6, 2.71828046909575338219\n",
      "7, 2.71828169413208176053\n",
      "8, 2.71828179834735772502\n",
      "9, 2.71828205201156025694\n",
      "10, 2.71828205323478755417\n",
      "11, 2.71828205335711015067\n",
      "12, 2.71852349603723775218\n",
      "13, 2.71611003408690088179\n",
      "14, 2.71611003408702300632\n",
      "15, 3.03503520654926184363\n",
      "16, 1.00000000000000000000\n",
      "17, 1.00000000000000000000\n",
      "18, 1.00000000000000000000\n",
      "19, 1.00000000000000000000\n"
     ]
    }
   ],
   "source": [
    "# number e calculation - 1st method (compound interest)\n",
    "\n",
    "for ii in range(20):\n",
    "    N = 10**ii\n",
    "    e_calc = (1+1/N)**N\n",
    "    print(\"%d, %.20f\" % (ii,e_calc))"
   ]
  },
  {
   "cell_type": "code",
   "execution_count": 9,
   "metadata": {},
   "outputs": [
    {
     "name": "stdout",
     "output_type": "stream",
     "text": [
      "2, 2.50000000000000000000\n",
      "3, 2.66666666666666651864\n",
      "4, 2.70833333333333303727\n",
      "5, 2.71666666666666634100\n",
      "6, 2.71805555555555544700\n",
      "7, 2.71825396825396836675\n",
      "8, 2.71827876984127003723\n",
      "9, 2.71828152557319224769\n",
      "10, 2.71828180114638451315\n",
      "11, 2.71828182619849290091\n",
      "12, 2.71828182828616871092\n",
      "13, 2.71828182844675936281\n",
      "14, 2.71828182845823018710\n",
      "15, 2.71828182845899490871\n",
      "16, 2.71828182845904287035\n",
      "17, 2.71828182845904553488\n",
      "18, 2.71828182845904553488\n",
      "19, 2.71828182845904553488\n"
     ]
    }
   ],
   "source": [
    "# number e calculation - 2nd method (better)\n",
    "# Euler-s infinite sum(1/n!) = 1/1! + 1/2! + ...\n",
    "\n",
    "e_calc=2\n",
    "n=1\n",
    "for ii in range(2,20):\n",
    "    n *= ii\n",
    "    e_calc += 1/(n)\n",
    "    print(\"%d, %.20f\" % (ii,e_calc))"
   ]
  },
  {
   "cell_type": "code",
   "execution_count": null,
   "metadata": {},
   "outputs": [],
   "source": []
  }
 ],
 "metadata": {
  "interpreter": {
   "hash": "110003d2facbeb6cc9d67577e4e2e56c25710998e50da017635eb2d11291f54f"
  },
  "kernelspec": {
   "display_name": "Python 3 (ipykernel)",
   "language": "python",
   "name": "python3"
  },
  "language_info": {
   "codemirror_mode": {
    "name": "ipython",
    "version": 3
   },
   "file_extension": ".py",
   "mimetype": "text/x-python",
   "name": "python",
   "nbconvert_exporter": "python",
   "pygments_lexer": "ipython3",
   "version": "3.9.12"
  }
 },
 "nbformat": 4,
 "nbformat_minor": 4
}

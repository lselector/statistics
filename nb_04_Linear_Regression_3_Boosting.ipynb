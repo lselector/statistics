{
 "cells": [
  {
   "cell_type": "markdown",
   "id": "db600d9a",
   "metadata": {},
   "source": [
    "## Regression (Linear or not) Using sklearn Boosting Regressors\n",
    "\n",
    "https://scikit-learn.org/stable/modules/generated/sklearn.ensemble.HistGradientBoostingRegressor.html\n",
    "\n",
    "<pre>\n",
    "-----------------------------------------------------------\n",
    "Below are two simple examples of how Boosting Regressors work.\n",
    "\n",
    "First example shows that a tree regressor can not extrapolate.\n",
    "It can only interpolate. \n",
    "To manage extrapolation (for example, for time series prediction), \n",
    "you need to transform the data to remove the trend before \n",
    "training/predicting, and then add the trend(s) back.\n",
    "\n",
    "Second example shows how some boosting algorithms can\n",
    "handle missing data. Unfortunately these algorithms also \n",
    "can give \"nonsense\" predictions (for example, predict \n",
    "negative number of events). I show common workarounds.\n",
    "-----------------------------------------------------------\n",
    "</pre>\n",
    "In real life you would need use proper train/test split and K-folding.\n",
    "Better use a stratified version:\n",
    "\n",
    "https://scikit-learn.org/stable/modules/generated/sklearn.model_selection.StratifiedKFold.html\n",
    "\n"
   ]
  },
  {
   "cell_type": "code",
   "execution_count": 1,
   "id": "b85cac73",
   "metadata": {
    "gather": {
     "logged": 1658940265215
    }
   },
   "outputs": [],
   "source": [
    "import os,sys, time, math\n",
    "import numpy as np\n",
    "import pandas as pd\n",
    "import sklearn\n",
    "from sklearn.model_selection import train_test_split\n",
    "from sklearn.ensemble import HistGradientBoostingRegressor\n",
    "from sklearn.ensemble import GradientBoostingRegressor, HistGradientBoostingRegressor\n",
    "from sklearn.datasets import make_classification\n",
    "# --------------------------------------\n",
    "from xgboost.sklearn import XGBRegressor\n",
    "# --------------------------------------\n",
    "import catboost as cb  # pip isntall catboost\n",
    "import lightgbm as lgb # pip install lightgbm \n",
    "# --------------------------------------\n",
    "import matplotlib\n",
    "import matplotlib.pyplot as plt\n",
    "import seaborn as sns\n",
    "import math"
   ]
  },
  {
   "cell_type": "code",
   "execution_count": 2,
   "id": "5f3ec392",
   "metadata": {},
   "outputs": [
    {
     "name": "stdout",
     "output_type": "stream",
     "text": [
      "python 3.9.12\n",
      "np 1.23.1\n",
      "pd 1.4.3\n",
      "sklearn 1.1.1\n",
      "matplotlib 3.5.2\n",
      "sns 0.11.2\n"
     ]
    }
   ],
   "source": [
    "print('python',sys.version.split()[0])\n",
    "print('np',np.__version__)\n",
    "print('pd',pd.__version__)\n",
    "print('sklearn',sklearn.__version__)\n",
    "print('matplotlib',matplotlib.__version__)\n",
    "print('sns',sns.__version__)"
   ]
  },
  {
   "cell_type": "code",
   "execution_count": 3,
   "id": "6825cade",
   "metadata": {
    "gather": {
     "logged": 1658940265215
    }
   },
   "outputs": [
    {
     "data": {
      "image/png": "[encoded data removed]",
      "text/plain": [
       "<Figure size 864x288 with 2 Axes>"
      ]
     },
     "metadata": {
      "needs_background": "light"
     },
     "output_type": "display_data"
    }
   ],
   "source": [
    "rng = np.random.RandomState(seed=None)\n",
    "xx = 10 * rng.rand(200)                   # 200 random numbers in [0,10] \n",
    "a = 1.5\n",
    "b = 30.0\n",
    "noise = rng.normal(0,1,200)               # 200 normally distributed numbers\n",
    "yy = a*xx + b + noise\n",
    "zz = 10*np.sin(xx) + noise\n",
    "fig, axes = plt.subplots(nrows=1, ncols=2, figsize=(12,4))\n",
    "_ = ax0, ax1 = axes.flatten()\n",
    "_ = ax0.scatter(xx,yy,color=\"r\", s=3)\n",
    "_ = ax1.scatter(xx,zz,color=\"r\", s=3)\n",
    "fig.tight_layout()\n",
    "plt.show() ;"
   ]
  },
  {
   "cell_type": "code",
   "execution_count": 4,
   "id": "f8142a9a",
   "metadata": {},
   "outputs": [
    {
     "name": "stdout",
     "output_type": "stream",
     "text": [
      "xx2 shape (200, 1)\n",
      "[[1.82403542]\n",
      " [3.10169956]\n",
      " [5.73907413]\n",
      " [1.36940884]\n",
      " [0.82289978]]\n"
     ]
    }
   ],
   "source": [
    "# For regression model we have to reshape \"features\" as array of rows\n",
    "xx2 = xx.reshape(-1, 1)\n",
    "print(\"xx2 shape\",xx2.shape)\n",
    "print(xx2[:5])"
   ]
  },
  {
   "cell_type": "code",
   "execution_count": 5,
   "id": "cdfbfd50",
   "metadata": {},
   "outputs": [],
   "source": [
    "model_yy = XGBRegressor(learning_rate = 0.01, n_estimators = 400)\n",
    "model_zz = XGBRegressor(learning_rate = 0.01, n_estimators = 400)"
   ]
  },
  {
   "cell_type": "code",
   "execution_count": 6,
   "id": "c1642f71",
   "metadata": {
    "gather": {
     "logged": 1658940265215
    }
   },
   "outputs": [
    {
     "data": {
      "text/html": [
       "<style>#sk-container-id-1 {color: black;background-color: white;}#sk-container-id-1 pre{padding: 0;}#sk-container-id-1 div.sk-toggleable {background-color: white;}#sk-container-id-1 label.sk-toggleable__label {cursor: pointer;display: block;width: 100%;margin-bottom: 0;padding: 0.3em;box-sizing: border-box;text-align: center;}#sk-container-id-1 label.sk-toggleable__label-arrow:before {content: \"▸\";float: left;margin-right: 0.25em;color: #696969;}#sk-container-id-1 label.sk-toggleable__label-arrow:hover:before {color: black;}#sk-container-id-1 div.sk-estimator:hover label.sk-toggleable__label-arrow:before {color: black;}#sk-container-id-1 div.sk-toggleable__content {max-height: 0;max-width: 0;overflow: hidden;text-align: left;background-color: #f0f8ff;}#sk-container-id-1 div.sk-toggleable__content pre {margin: 0.2em;color: black;border-radius: 0.25em;background-color: #f0f8ff;}#sk-container-id-1 input.sk-toggleable__control:checked~div.sk-toggleable__content {max-height: 200px;max-width: 100%;overflow: auto;}#sk-container-id-1 input.sk-toggleable__control:checked~label.sk-toggleable__label-arrow:before {content: \"▾\";}#sk-container-id-1 div.sk-estimator input.sk-toggleable__control:checked~label.sk-toggleable__label {background-color: #d4ebff;}#sk-container-id-1 div.sk-label input.sk-toggleable__control:checked~label.sk-toggleable__label {background-color: #d4ebff;}#sk-container-id-1 input.sk-hidden--visually {border: 0;clip: rect(1px 1px 1px 1px);clip: rect(1px, 1px, 1px, 1px);height: 1px;margin: -1px;overflow: hidden;padding: 0;position: absolute;width: 1px;}#sk-container-id-1 div.sk-estimator {font-family: monospace;background-color: #f0f8ff;border: 1px dotted black;border-radius: 0.25em;box-sizing: border-box;margin-bottom: 0.5em;}#sk-container-id-1 div.sk-estimator:hover {background-color: #d4ebff;}#sk-container-id-1 div.sk-parallel-item::after {content: \"\";width: 100%;border-bottom: 1px solid gray;flex-grow: 1;}#sk-container-id-1 div.sk-label:hover label.sk-toggleable__label {background-color: #d4ebff;}#sk-container-id-1 div.sk-serial::before {content: \"\";position: absolute;border-left: 1px solid gray;box-sizing: border-box;top: 0;bottom: 0;left: 50%;z-index: 0;}#sk-container-id-1 div.sk-serial {display: flex;flex-direction: column;align-items: center;background-color: white;padding-right: 0.2em;padding-left: 0.2em;position: relative;}#sk-container-id-1 div.sk-item {position: relative;z-index: 1;}#sk-container-id-1 div.sk-parallel {display: flex;align-items: stretch;justify-content: center;background-color: white;position: relative;}#sk-container-id-1 div.sk-item::before, #sk-container-id-1 div.sk-parallel-item::before {content: \"\";position: absolute;border-left: 1px solid gray;box-sizing: border-box;top: 0;bottom: 0;left: 50%;z-index: -1;}#sk-container-id-1 div.sk-parallel-item {display: flex;flex-direction: column;z-index: 1;position: relative;background-color: white;}#sk-container-id-1 div.sk-parallel-item:first-child::after {align-self: flex-end;width: 50%;}#sk-container-id-1 div.sk-parallel-item:last-child::after {align-self: flex-start;width: 50%;}#sk-container-id-1 div.sk-parallel-item:only-child::after {width: 0;}#sk-container-id-1 div.sk-dashed-wrapped {border: 1px dashed gray;margin: 0 0.4em 0.5em 0.4em;box-sizing: border-box;padding-bottom: 0.4em;background-color: white;}#sk-container-id-1 div.sk-label label {font-family: monospace;font-weight: bold;display: inline-block;line-height: 1.2em;}#sk-container-id-1 div.sk-label-container {text-align: center;}#sk-container-id-1 div.sk-container {/* jupyter's `normalize.less` sets `[hidden] { display: none; }` but bootstrap.min.css set `[hidden] { display: none !important; }` so we also need the `!important` here to be able to override the default hidden behavior on the sphinx rendered scikit-learn.org. See: https://github.com/scikit-learn/scikit-learn/issues/21755 */display: inline-block !important;position: relative;}#sk-container-id-1 div.sk-text-repr-fallback {display: none;}</style><div id=\"sk-container-id-1\" class=\"sk-top-container\"><div class=\"sk-text-repr-fallback\"><pre>XGBRegressor(base_score=0.5, booster=&#x27;gbtree&#x27;, callbacks=None,\n",
       "             colsample_bylevel=1, colsample_bynode=1, colsample_bytree=1,\n",
       "             early_stopping_rounds=None, enable_categorical=False,\n",
       "             eval_metric=None, gamma=0, gpu_id=-1, grow_policy=&#x27;depthwise&#x27;,\n",
       "             importance_type=None, interaction_constraints=&#x27;&#x27;,\n",
       "             learning_rate=0.01, max_bin=256, max_cat_to_onehot=4,\n",
       "             max_delta_step=0, max_depth=6, max_leaves=0, min_child_weight=1,\n",
       "             missing=nan, monotone_constraints=&#x27;()&#x27;, n_estimators=400, n_jobs=0,\n",
       "             num_parallel_tree=1, predictor=&#x27;auto&#x27;, random_state=0, reg_alpha=0,\n",
       "             reg_lambda=1, ...)</pre><b>In a Jupyter environment, please rerun this cell to show the HTML representation or trust the notebook. <br />On GitHub, the HTML representation is unable to render, please try loading this page with nbviewer.org.</b></div><div class=\"sk-container\" hidden><div class=\"sk-item\"><div class=\"sk-estimator sk-toggleable\"><input class=\"sk-toggleable__control sk-hidden--visually\" id=\"sk-estimator-id-1\" type=\"checkbox\" checked><label for=\"sk-estimator-id-1\" class=\"sk-toggleable__label sk-toggleable__label-arrow\">XGBRegressor</label><div class=\"sk-toggleable__content\"><pre>XGBRegressor(base_score=0.5, booster=&#x27;gbtree&#x27;, callbacks=None,\n",
       "             colsample_bylevel=1, colsample_bynode=1, colsample_bytree=1,\n",
       "             early_stopping_rounds=None, enable_categorical=False,\n",
       "             eval_metric=None, gamma=0, gpu_id=-1, grow_policy=&#x27;depthwise&#x27;,\n",
       "             importance_type=None, interaction_constraints=&#x27;&#x27;,\n",
       "             learning_rate=0.01, max_bin=256, max_cat_to_onehot=4,\n",
       "             max_delta_step=0, max_depth=6, max_leaves=0, min_child_weight=1,\n",
       "             missing=nan, monotone_constraints=&#x27;()&#x27;, n_estimators=400, n_jobs=0,\n",
       "             num_parallel_tree=1, predictor=&#x27;auto&#x27;, random_state=0, reg_alpha=0,\n",
       "             reg_lambda=1, ...)</pre></div></div></div></div></div>"
      ],
      "text/plain": [
       "XGBRegressor(base_score=0.5, booster='gbtree', callbacks=None,\n",
       "             colsample_bylevel=1, colsample_bynode=1, colsample_bytree=1,\n",
       "             early_stopping_rounds=None, enable_categorical=False,\n",
       "             eval_metric=None, gamma=0, gpu_id=-1, grow_policy='depthwise',\n",
       "             importance_type=None, interaction_constraints='',\n",
       "             learning_rate=0.01, max_bin=256, max_cat_to_onehot=4,\n",
       "             max_delta_step=0, max_depth=6, max_leaves=0, min_child_weight=1,\n",
       "             missing=nan, monotone_constraints='()', n_estimators=400, n_jobs=0,\n",
       "             num_parallel_tree=1, predictor='auto', random_state=0, reg_alpha=0,\n",
       "             reg_lambda=1, ...)"
      ]
     },
     "execution_count": 6,
     "metadata": {},
     "output_type": "execute_result"
    }
   ],
   "source": [
    "model_yy.fit(xx2, yy)\n",
    "model_zz.fit(xx2, zz)"
   ]
  },
  {
   "cell_type": "code",
   "execution_count": 7,
   "id": "977e8d1e",
   "metadata": {},
   "outputs": [
    {
     "name": "stdout",
     "output_type": "stream",
     "text": [
      "xx_min = 0.013133, 9.834787\n",
      "points: 199\n",
      "xx3 in [-4.986867, 14.813133]\n"
     ]
    }
   ],
   "source": [
    "# for prediciton, add \"before\" and \"after\" points \n",
    "xx_min = np.min(xx)\n",
    "xx_max = np.max(xx)\n",
    "print(f\"xx_min = {xx_min:3f}, {xx_max:3f}\")\n",
    "extra_x = 5\n",
    "xx3 = np.arange(start=xx_min-extra_x, stop=xx_max+extra_x, step=0.1)\n",
    "mylen = len(xx3)\n",
    "print(f\"points: {mylen}\")\n",
    "print(f\"xx3 in [{xx3[0]:3f}, {xx3[-1]:3f}]\")"
   ]
  },
  {
   "cell_type": "code",
   "execution_count": 8,
   "id": "338d02be",
   "metadata": {},
   "outputs": [],
   "source": [
    "# model needs 2-dim array of features\n",
    "xx4 = np.array(xx3).reshape(-1, 1)\n",
    "yy4 = model_yy.predict(xx4)\n",
    "zz4 = model_zz.predict(xx4)"
   ]
  },
  {
   "cell_type": "code",
   "execution_count": 9,
   "id": "d9ad0636",
   "metadata": {},
   "outputs": [
    {
     "data": {
      "image/png": "[encoded data removed]",
      "text/plain": [
       "<Figure size 864x288 with 2 Axes>"
      ]
     },
     "metadata": {
      "needs_background": "light"
     },
     "output_type": "display_data"
    }
   ],
   "source": [
    "# Visualizing the regression line\n",
    "# and showing how it can not extrapolate\n",
    "fig, axes = plt.subplots(nrows=1, ncols=2, figsize=(12,4))\n",
    "_ = ax0, ax1 = axes.flatten()\n",
    "_ = ax0.scatter(xx4,yy4,color=\"r\", s=3)\n",
    "_ = ax1.scatter(xx4,zz4,color=\"r\", s=3)\n",
    "fig.tight_layout()\n",
    "plt.show() ;"
   ]
  },
  {
   "cell_type": "raw",
   "id": "8e23fc3d",
   "metadata": {},
   "source": [
    "Graphs above demonstrates two things:\n",
    "    1. The regression does not have to be linear. \n",
    "       The ensemble tree learns the shape of the curve.\n",
    "    2. The model does not extrapolate. \n",
    "       For feature values out of training range \n",
    "       the model extrapolates with a constant value\n",
    "\n",
    "Also I recommend to play with the model parameteres \n",
    "(learning_rate, n_estimators, etc.) \n",
    "to see how wrong choice of parameters can make the model useless."
   ]
  },
  {
   "cell_type": "markdown",
   "id": "39dd4a00",
   "metadata": {},
   "source": [
    "## Boosted Trees predictions can be below min or above max training values\n",
    "\n",
    "https://datascience.stackexchange.com/questions/77234/can-boosted-trees-predict-below-the-minimum-value-of-the-training-label/77272#77272\n"
   ]
  },
  {
   "cell_type": "code",
   "execution_count": 10,
   "id": "3245c419",
   "metadata": {},
   "outputs": [
    {
     "name": "stdout",
     "output_type": "stream",
     "text": [
      "X.shape = (600, 6)\n",
      "y.shape = (600,)\n",
      "y min = 0.00000, max = 1.00000\n"
     ]
    }
   ],
   "source": [
    "from sklearn.datasets import make_classification\n",
    "from sklearn.ensemble import GradientBoostingRegressor, HistGradientBoostingRegressor\n",
    "from xgboost.sklearn import XGBRegressor\n",
    "\n",
    "n_samples = 600\n",
    "n_features = 6\n",
    "\n",
    "X, y = make_classification(\n",
    "    random_state=42, \n",
    "    n_samples=n_samples, \n",
    "    n_features=n_features\n",
    ") \n",
    "\n",
    "print(f\"{X.shape = }\")\n",
    "print(f\"{y.shape = }\")\n",
    "# values are only 0 or 1\n",
    "print(f\"y min = {y.min():.5f}, max = {y.max():.5f}\")"
   ]
  },
  {
   "cell_type": "code",
   "execution_count": 11,
   "id": "884b508d",
   "metadata": {},
   "outputs": [],
   "source": [
    "# Some regressors can handle missing values.\n",
    "# We will model it by randomly inserting np.nan\n",
    "\n",
    "n_nulls = 1 # number of nulls per row\n",
    "\n",
    "XT = np.copy(X) # for training\n",
    "XP = np.copy(X) # for predicting\n",
    "\n",
    "def add_nulls(data, n_features=n_features, n_nulls=0):\n",
    "    idx = np.arange(n_features)\n",
    "    if n_nulls > 0:\n",
    "        for row in range(len(data)):\n",
    "            idx2 = np.random.choice(idx, n_nulls)\n",
    "            for ii in idx2:\n",
    "                data[row,ii] = np.nan\n",
    "    \n",
    "# add nulls as needed\n",
    "# add_nulls(XT)\n",
    "add_nulls(XP)\n",
    "\n",
    "list_depths = [1,2,5,10,20,50,100,200]\n",
    "\n",
    "# -----------------------------------------------------\n",
    "def myprint(max_depth, mymin, mymax, dt):    \n",
    "    if mymin < 0:\n",
    "        ss = f\"\\x1b[31m{mymin:.5f}\\x1b[0m\"  # red\n",
    "    else:\n",
    "        ss = f\"{mymin:.5f}\"\n",
    "    print(f\"{max_depth:3d}: {ss}, {preds.max():.5f}, {dt:4.3f} sec\")"
   ]
  },
  {
   "cell_type": "code",
   "execution_count": 12,
   "id": "5b3ec2ba",
   "metadata": {},
   "outputs": [
    {
     "name": "stdout",
     "output_type": "stream",
     "text": [
      "GradientBoostingRegressor - does not support nulls\n",
      "depth | min   | max.   | run time\n",
      "  1: \u001b[31m-0.25665\u001b[0m, 1.05701, 0.010 sec\n",
      "  2: \u001b[31m-0.18161\u001b[0m, 1.30523, 0.007 sec\n",
      "  5: \u001b[31m-0.02606\u001b[0m, 1.04776, 0.013 sec\n",
      " 10: \u001b[31m-0.00000\u001b[0m, 1.00000, 0.003 sec\n",
      " 20: \u001b[31m-0.00000\u001b[0m, 1.00000, 0.003 sec\n",
      " 50: \u001b[31m-0.00000\u001b[0m, 1.00000, 0.003 sec\n",
      "100: \u001b[31m-0.00000\u001b[0m, 1.00000, 0.003 sec\n",
      "200: \u001b[31m-0.00000\u001b[0m, 1.00000, 0.003 sec\n"
     ]
    }
   ],
   "source": [
    "print(\"GradientBoostingRegressor - does not support nulls\")\n",
    "print(\"depth | min   | max.   | run time\")\n",
    "for max_depth in list_depths:\n",
    "    t1 = time.time()\n",
    "    model = GradientBoostingRegressor(max_depth=max_depth,\n",
    "                                      n_estimators=10,\n",
    "                                      learning_rate=1,\n",
    "                                      random_state=42)\n",
    "    model.fit(X,y)\n",
    "    preds = model.predict(X) # this regressor does not support Nan values\n",
    "    myprint(max_depth, preds.min(), preds.max(), time.time()-t1)"
   ]
  },
  {
   "cell_type": "code",
   "execution_count": 13,
   "id": "c605be85",
   "metadata": {},
   "outputs": [
    {
     "name": "stdout",
     "output_type": "stream",
     "text": [
      "HistGradientBoostingRegressor with learning_rate = 0.1 (default)\n",
      "depth | min   | max.   | run time\n",
      "  1: \u001b[31m-0.31345\u001b[0m, 1.00232, 0.308 sec\n",
      "  2: \u001b[31m-0.12167\u001b[0m, 1.08984, 0.526 sec\n",
      "  5: \u001b[31m-0.09507\u001b[0m, 1.10812, 1.624 sec\n",
      " 10: \u001b[31m-0.09418\u001b[0m, 1.09082, 2.560 sec\n",
      " 20: \u001b[31m-0.06903\u001b[0m, 1.09547, 3.042 sec\n",
      " 50: \u001b[31m-0.06903\u001b[0m, 1.09547, 3.143 sec\n",
      "100: \u001b[31m-0.06903\u001b[0m, 1.09547, 3.215 sec\n",
      "200: \u001b[31m-0.06903\u001b[0m, 1.09547, 3.132 sec\n",
      "HistGradientBoostingRegressor with learning_rate = 0.01\n",
      "depth | min   | max.   | run time\n",
      "  1: 0.22332, 0.75144, 0.256 sec\n",
      "  2: 0.19633, 0.80271, 0.536 sec\n",
      "  5: 0.17593, 0.82072, 1.651 sec\n",
      " 10: 0.17591, 0.83030, 3.261 sec\n",
      " 20: 0.17591, 0.83030, 3.079 sec\n",
      " 50: 0.17591, 0.83030, 3.196 sec\n",
      "100: 0.17591, 0.83030, 3.191 sec\n",
      "200: 0.17591, 0.83030, 2.936 sec\n",
      "HistGradientBoostingRegressor with loss=poisson\n",
      "depth | min   | max.   | run time\n",
      "  1: 0.00459, 0.96512, 0.269 sec\n",
      "  2: 0.00041, 1.20172, 0.450 sec\n",
      "  5: 0.00003, 1.09983, 1.924 sec\n",
      " 10: 0.00002, 1.03552, 4.399 sec\n",
      " 20: 0.00002, 1.02612, 4.804 sec\n",
      " 50: 0.00002, 1.02612, 4.574 sec\n",
      "100: 0.00002, 1.02612, 4.950 sec\n",
      "200: 0.00002, 1.02612, 4.961 sec\n"
     ]
    }
   ],
   "source": [
    "print(\"HistGradientBoostingRegressor with learning_rate = 0.1 (default)\")\n",
    "print(\"depth | min   | max.   | run time\")\n",
    "for max_depth in list_depths:\n",
    "    t1 = time.time()\n",
    "    model = HistGradientBoostingRegressor(max_depth=max_depth)\n",
    "    model.fit(X,y)\n",
    "    preds = model.predict(XP)\n",
    "    myprint(max_depth, preds.min(), preds.max(), time.time()-t1)\n",
    "print(\"HistGradientBoostingRegressor with learning_rate = 0.01\")\n",
    "print(\"depth | min   | max.   | run time\")\n",
    "for max_depth in list_depths:\n",
    "    t1 = time.time()\n",
    "    model = HistGradientBoostingRegressor(max_depth=max_depth, learning_rate=0.01)\n",
    "    model.fit(X,y)\n",
    "    preds = model.predict(XP)\n",
    "    myprint(max_depth, preds.min(), preds.max(), time.time()-t1)\n",
    "print(\"HistGradientBoostingRegressor with loss=poisson\")\n",
    "print(\"depth | min   | max.   | run time\")\n",
    "for max_depth in list_depths:\n",
    "    t1 = time.time()\n",
    "    model = HistGradientBoostingRegressor(max_depth=max_depth, loss='poisson', min_samples_leaf=2)\n",
    "    model.fit(X,y)\n",
    "    preds = model.predict(XP)\n",
    "    myprint(max_depth, preds.min(), preds.max(), time.time()-t1)"
   ]
  },
  {
   "cell_type": "code",
   "execution_count": 14,
   "id": "cdf64fe5",
   "metadata": {},
   "outputs": [
    {
     "name": "stdout",
     "output_type": "stream",
     "text": [
      "XGBRegressor with learning_rate = 0.1 (default)\n",
      "depth | min   | max.   | run time\n",
      "  1: \u001b[31m-0.28201\u001b[0m, 1.07795, 0.155 sec\n",
      "  2: \u001b[31m-0.13228\u001b[0m, 1.13325, 0.140 sec\n",
      "  5: \u001b[31m-0.01358\u001b[0m, 1.01583, 0.334 sec\n",
      " 10: \u001b[31m-0.00073\u001b[0m, 1.00109, 0.243 sec\n",
      " 20: \u001b[31m-0.00053\u001b[0m, 1.00110, 0.345 sec\n",
      " 50: \u001b[31m-0.00050\u001b[0m, 1.00105, 0.355 sec\n",
      "100: \u001b[31m-0.00050\u001b[0m, 1.00105, 0.283 sec\n",
      "200: \u001b[31m-0.00050\u001b[0m, 1.00105, 0.331 sec\n",
      "XGBRegressor with learning_rate = 0.01\n",
      "depth | min   | max.   | run time\n",
      "  1: 0.22497, 0.75227, 0.081 sec\n",
      "  2: 0.19846, 0.80280, 0.114 sec\n",
      "  5: 0.18305, 0.81129, 0.316 sec\n",
      " 10: 0.18376, 0.81026, 0.524 sec\n",
      " 20: 0.18376, 0.81025, 0.536 sec\n",
      " 50: 0.18376, 0.81025, 0.529 sec\n",
      "100: 0.18376, 0.81025, 0.567 sec\n",
      "200: 0.18376, 0.81025, 0.615 sec\n",
      "XGBRegressor objective count:poisson\n",
      "depth | min   | max.   | run time\n",
      "  1: 0.00335, 0.98195, 0.085 sec\n",
      "  2: 0.00080, 1.16352, 0.121 sec\n",
      "  5: 0.00038, 1.03960, 0.307 sec\n",
      " 10: 0.00085, 1.02247, 0.513 sec\n",
      " 20: 0.00089, 1.00617, 0.931 sec\n",
      " 50: 0.00087, 1.00091, 1.250 sec\n",
      "100: 0.00087, 1.00091, 1.389 sec\n",
      "200: 0.00087, 1.00091, 1.288 sec\n"
     ]
    }
   ],
   "source": [
    "# XGBRegressor\n",
    "# -----------------------------------------------------\n",
    "print(\"XGBRegressor with learning_rate = 0.1 (default)\")\n",
    "print(\"depth | min   | max.   | run time\")\n",
    "for max_depth in list_depths:\n",
    "    t1 = time.time()\n",
    "    model = XGBRegressor(max_depth=max_depth)\n",
    "    model.fit(X,y)\n",
    "    preds = model.predict(XP)\n",
    "    myprint(max_depth, preds.min(), preds.max(), time.time()-t1)\n",
    "# -----------------------------------------------------\n",
    "print(\"XGBRegressor with learning_rate = 0.01\")\n",
    "print(\"depth | min   | max.   | run time\")\n",
    "for max_depth in list_depths:\n",
    "    t1 = time.time()\n",
    "    model = XGBRegressor(max_depth=max_depth, learning_rate = 0.01)\n",
    "    model.fit(X,y)\n",
    "    preds = model.predict(XP)\n",
    "    myprint(max_depth, preds.min(), preds.max(), time.time()-t1)\n",
    "# -----------------------------------------------------\n",
    "print(\"XGBRegressor objective count:poisson\")\n",
    "print(\"depth | min   | max.   | run time\")\n",
    "for max_depth in list_depths:\n",
    "    t1 = time.time()\n",
    "    model = XGBRegressor(max_depth=max_depth, objective='count:poisson')\n",
    "    model.fit(X,y)\n",
    "    preds = model.predict(XP)\n",
    "    myprint(max_depth, preds.min(), preds.max(), time.time()-t1)"
   ]
  },
  {
   "cell_type": "code",
   "execution_count": 15,
   "id": "eb2369dc",
   "metadata": {},
   "outputs": [
    {
     "name": "stdout",
     "output_type": "stream",
     "text": [
      "CatBoost with default RMSE loss\n",
      "depth | min   | max.   | run time\n",
      "  1: \u001b[31m-0.30109\u001b[0m, 1.09710, 0.262 sec\n",
      "  2: \u001b[31m-0.06385\u001b[0m, 1.07773, 0.281 sec\n",
      "  5: \u001b[31m-0.04475\u001b[0m, 1.05983, 0.623 sec\n",
      " 10: \u001b[31m-0.01990\u001b[0m, 1.03237, 3.099 sec\n",
      "CatBoost with Poisson loss\n",
      "depth | min   | max.   | run time\n",
      "  1: 0.00714, 1.22188, 0.390 sec\n",
      "  2: 0.00156, 1.16090, 0.537 sec\n",
      "  5: 0.00017, 1.07504, 0.916 sec\n",
      " 10: 0.00007, 1.01426, 3.783 sec\n"
     ]
    }
   ],
   "source": [
    "# Catboost \n",
    "# can not handle more than depth==16, very slow at depth 10\n",
    "# -----------------------------------------------------\n",
    "print(\"CatBoost with default RMSE loss\")\n",
    "print(\"depth | min   | max.   | run time\")\n",
    "for max_depth in [1,2,5,10]:\n",
    "    t1 = time.time()\n",
    "    model = cb.CatBoostRegressor(depth=max_depth, silent=True)\n",
    "    model.fit(X,y)\n",
    "    preds = model.predict(XP)\n",
    "    myprint(max_depth, preds.min(), preds.max(), time.time()-t1)\n",
    "# -----------------------------------------------------\n",
    "print(\"CatBoost with Poisson loss\")\n",
    "print(\"depth | min   | max.   | run time\")\n",
    "for max_depth in [1,2,5,10]:\n",
    "    t1 = time.time()\n",
    "    model = cb.CatBoostRegressor(depth=max_depth, silent=True, loss_function='Poisson')\n",
    "    model.fit(X,y)\n",
    "    preds = model.predict(XP)\n",
    "    myprint(max_depth, preds.min(), preds.max(), time.time()-t1)"
   ]
  },
  {
   "cell_type": "code",
   "execution_count": 16,
   "id": "9f59152d",
   "metadata": {},
   "outputs": [
    {
     "name": "stdout",
     "output_type": "stream",
     "text": [
      "LightGBM with default loss\n",
      "depth | min   | max.   | run time\n",
      "  1: \u001b[31m-0.29841\u001b[0m, 0.99886, 0.103 sec\n",
      "  2: \u001b[31m-0.12999\u001b[0m, 1.07717, 0.155 sec\n",
      "  5: \u001b[31m-0.11665\u001b[0m, 1.09207, 0.346 sec\n",
      " 10: \u001b[31m-0.10534\u001b[0m, 1.10536, 0.905 sec\n",
      " 20: \u001b[31m-0.09306\u001b[0m, 1.10992, 0.960 sec\n",
      " 50: \u001b[31m-0.09306\u001b[0m, 1.10992, 0.862 sec\n",
      "100: \u001b[31m-0.09306\u001b[0m, 1.10992, 0.896 sec\n",
      "200: \u001b[31m-0.09306\u001b[0m, 1.10992, 0.920 sec\n",
      "LightGBM with default loss 2\n",
      "depth | min   | max.   | run time\n",
      "  1: 0.22466, 0.75155, 0.076 sec\n",
      "  2: 0.19661, 0.80265, 0.101 sec\n",
      "  5: 0.16876, 0.82055, 0.444 sec\n",
      " 10: 0.16877, 0.82855, 0.805 sec\n",
      " 20: 0.16877, 0.82855, 0.860 sec\n",
      " 50: 0.16877, 0.82855, 0.845 sec\n",
      "100: 0.16877, 0.82855, 1.010 sec\n",
      "200: 0.16877, 0.82855, 0.867 sec\n",
      "LightGBM with objective = poisson\n",
      "depth | min   | max.   | run time\n",
      "  1: 0.02113, 0.94489, 0.065 sec\n",
      "  2: 0.00857, 1.00935, 0.153 sec\n",
      "  5: 0.00351, 1.25788, 0.534 sec\n",
      " 10: 0.00346, 1.09260, 0.652 sec\n",
      " 20: 0.00346, 1.14217, 0.761 sec\n",
      " 50: 0.00346, 1.14217, 0.823 sec\n",
      "100: 0.00346, 1.14217, 0.803 sec\n",
      "200: 0.00346, 1.14217, 0.767 sec\n"
     ]
    }
   ],
   "source": [
    "# LightGBM - \n",
    "# https://www.datatechnotes.com/2022/03/lightgbm-regression-example-in-python.html\n",
    "# -----------------------------------------------------\n",
    "print(\"LightGBM with default loss\")\n",
    "print(\"depth | min   | max.   | run time\")\n",
    "for max_depth in list_depths:\n",
    "    t1 = time.time()\n",
    "    model = lgb.LGBMRegressor(max_depth=max_depth)\n",
    "    model.fit(X,y)\n",
    "    preds = model.predict(XP)\n",
    "    myprint(max_depth, preds.min(), preds.max(), time.time()-t1)\n",
    "# -----------------------------------------------------\n",
    "print(\"LightGBM with default loss 2\")\n",
    "print(\"depth | min   | max.   | run time\")\n",
    "for max_depth in list_depths:\n",
    "    t1 = time.time()\n",
    "    params = { \n",
    "        'task'          : 'train', \n",
    "        'boosting'      : 'gbdt',\n",
    "        'objective'     : 'regression',\n",
    "        'learning_rate' : 0.01,\n",
    "        'verbose'       : -1,\n",
    "        'max_depth'     : max_depth\n",
    "    }\n",
    "    model = lgb.train(params, train_set=lgb.Dataset(X, y))\n",
    "    preds = model.predict(XP)\n",
    "    myprint(max_depth, preds.min(), preds.max(), time.time()-t1)\n",
    "# -----------------------------------------------------\n",
    "print(\"LightGBM with objective = poisson\")\n",
    "print(\"depth | min   | max.   | run time\")\n",
    "for max_depth in list_depths:\n",
    "    t1 = time.time()\n",
    "    params = {'max_depth': max_depth, 'objective': 'poisson','verbose' : -1}\n",
    "    model = lgb.train(params, train_set=lgb.Dataset(X, y))\n",
    "    preds = model.predict(XP)\n",
    "    myprint(max_depth, preds.min(), preds.max(), time.time()-t1)"
   ]
  },
  {
   "cell_type": "markdown",
   "id": "dbab4d66",
   "metadata": {},
   "source": [
    "<pre>\n",
    "-----------------------------------------------------------\n",
    "The results above demonstrate that the predictions \n",
    "can go outside of the range of the training data. \n",
    "\n",
    "Note that this effect:\n",
    " - depends on the choice of the regressor\n",
    " - depends on the max_depth of the trees\n",
    " - depends on the learning_rate\n",
    " - may also depend on the number of the trees\n",
    " - depends on data (categorical/binary + missing values)\n",
    "\n",
    "-----------------------------------------------------------\n",
    "Typical \"nonsense\" model predictions could be \n",
    "negative number of visitors or negative waiting time (days).\n",
    "\n",
    "-----------------------------------------------------------\n",
    "Possible workarounds:\n",
    "\n",
    "1. decrease learning rate from 0.1 to 0.01\n",
    "\n",
    "2. use \"poisson\" loss or objective:\n",
    "   HistGradientBoostingRegressor : loss='poisson'\n",
    "   XGBRegressor                  : objective='count:poisson'\n",
    "\n",
    "3. transform the target \"y\" before training/prediction like this:  \n",
    "         y2 = ln(1+y)\n",
    "   then do reverse transform: \n",
    "         y = exp(y2_pred) - 1\n",
    "\n",
    "4. clip at zero \n",
    "         if y_pred < 0: \n",
    "             y_pred = 0\n",
    "\n",
    "-----------------------------------------------------------\n",
    "Note that the regressors can be further tuned.\n",
    "For example you can specify which features to treat \n",
    "as categorical, etc.\n",
    "-----------------------------------------------------------\n",
    "\n",
    "</pre>"
   ]
  },
  {
   "cell_type": "code",
   "execution_count": 17,
   "id": "4668932b",
   "metadata": {},
   "outputs": [],
   "source": [
    "# indicate which columsn are categorical and which numeric\n",
    "# apply regressor to sinusoidal shaped function"
   ]
  },
  {
   "cell_type": "code",
   "execution_count": null,
   "id": "55350992",
   "metadata": {},
   "outputs": [],
   "source": []
  }
 ],
 "metadata": {
  "kernel_info": {
   "name": "python3"
  },
  "kernelspec": {
   "display_name": "Python 3 (ipykernel)",
   "language": "python",
   "name": "python3"
  },
  "language_info": {
   "codemirror_mode": {
    "name": "ipython",
    "version": 3
   },
   "file_extension": ".py",
   "mimetype": "text/x-python",
   "name": "python",
   "nbconvert_exporter": "python",
   "pygments_lexer": "ipython3",
   "version": "3.9.12"
  },
  "microsoft": {
   "host": {
    "AzureML": {
     "notebookHasBeenCompleted": true
    }
   }
  },
  "nteract": {
   "version": "nteract-front-end@1.0.0"
  }
 },
 "nbformat": 4,
 "nbformat_minor": 5
}
